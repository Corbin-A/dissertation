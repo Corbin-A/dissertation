{
 "cells": [
  {
   "cell_type": "markdown",
   "metadata": {},
   "source": [
    "Adapted from https://github.com/jph00/part2/blob/master/translate-pytorch.ipynb"
   ]
  },
  {
   "cell_type": "markdown",
   "metadata": {},
   "source": [
    "# Translating French to English with Pytorch"
   ]
  },
  {
   "cell_type": "code",
   "execution_count": 1,
   "metadata": {},
   "outputs": [
    {
     "name": "stderr",
     "output_type": "stream",
     "text": [
      "Using TensorFlow backend.\n"
     ]
    }
   ],
   "source": [
    "%matplotlib inline\n",
    "import re, pickle, collections, bcolz, numpy as np, keras, sklearn, math, operator, random, time, os\n",
    "import matplotlib.pyplot as plt"
   ]
  },
  {
   "cell_type": "code",
   "execution_count": 2,
   "metadata": {
    "collapsed": true
   },
   "outputs": [],
   "source": [
    "from gensim.models import KeyedVectors\n",
    "\n",
    "import torch, torch.nn as nn\n",
    "from torch.autograd import Variable\n",
    "from torch import optim\n",
    "import torch.nn.functional as F"
   ]
  },
  {
   "cell_type": "markdown",
   "metadata": {
    "heading_collapsed": true
   },
   "source": [
    "## Prepare corpus"
   ]
  },
  {
   "cell_type": "code",
   "execution_count": 3,
   "metadata": {
    "collapsed": true
   },
   "outputs": [],
   "source": [
    "headlines = pickle.load( open('Dissertation/headlines.pkl', 'rb') )\n",
    "articles = pickle.load( open('Dissertation/articles.pkl', 'rb') )"
   ]
  },
  {
   "cell_type": "code",
   "execution_count": 4,
   "metadata": {
    "collapsed": true
   },
   "outputs": [],
   "source": [
    "pairs = [(' '.join(hdln), ' '.join(art)) for hdln, art in zip(headlines, articles)]"
   ]
  },
  {
   "cell_type": "markdown",
   "metadata": {
    "hidden": true
   },
   "source": [
    "Because it takes a while to load the data, we save the results to make it easier to load in later."
   ]
  },
  {
   "cell_type": "code",
   "execution_count": 9,
   "metadata": {
    "collapsed": true,
    "hidden": true
   },
   "outputs": [],
   "source": [
    "pickle.dump(pairs, open('art-hdln-pairs.pkl', 'wb'))"
   ]
  },
  {
   "cell_type": "code",
   "execution_count": 11,
   "metadata": {
    "collapsed": true,
    "hidden": true
   },
   "outputs": [],
   "source": [
    "pairs = pickle.load(open('art-hdln-pairs.pkl', 'rb'))"
   ]
  },
  {
   "cell_type": "markdown",
   "metadata": {
    "hidden": true
   },
   "source": [
    "Special tokens used to pad the end of sentences, and to mark the start of a sentence."
   ]
  },
  {
   "cell_type": "code",
   "execution_count": 5,
   "metadata": {
    "collapsed": true,
    "hidden": true
   },
   "outputs": [],
   "source": [
    "PAD = 0; SOS = 1; UNK = 2"
   ]
  },
  {
   "cell_type": "markdown",
   "metadata": {
    "hidden": true
   },
   "source": [
    "Enumerate the unique words (*vocab*) in the corpus, and also create the reverse map (word->index). Then use this mapping to encode every sentence as a list of int indices."
   ]
  },
  {
   "cell_type": "code",
   "execution_count": 6,
   "metadata": {
    "collapsed": true,
    "hidden": true
   },
   "outputs": [],
   "source": [
    "def toks2ids(sents, voc_size = 200000):\n",
    "    voc_cnt = collections.Counter(t for sent in sents for t in sent)\n",
    "    vocab = sorted(voc_cnt, key=voc_cnt.get, reverse=True)\n",
    "    vocab = vocab[:voc_size]\n",
    "    vocab.insert(PAD, \"<PAD>\")\n",
    "    vocab.insert(SOS, \"<SOS>\")\n",
    "    vocab.insert(UNK, \"<UNK>\")\n",
    "    w2id = {w:i for i,w in enumerate(vocab)}\n",
    "    id2w = {i:w for i,w in enumerate(vocab)}\n",
    "    ids = [[w2id[t] if t in vocab else UNK for t in sent] for sent in sents]\n",
    "    return ids, vocab, w2id, id2w, voc_cnt"
   ]
  },
  {
   "cell_type": "code",
   "execution_count": 7,
   "metadata": {
    "collapsed": true,
    "hidden": true
   },
   "outputs": [],
   "source": [
    "art_ids, art_vocab, art_w2id, art_id2w, art_counts = toks2ids(articles)\n",
    "hdln_ids, hdln_vocab, hdln_w2id, hdln_id2w, hdln_counts = toks2ids(headlines)"
   ]
  },
  {
   "cell_type": "markdown",
   "metadata": {
    "heading_collapsed": true
   },
   "source": [
    "## Word vectors"
   ]
  },
  {
   "cell_type": "markdown",
   "metadata": {
    "hidden": true
   },
   "source": [
    "Stanford's GloVe word vectors can be downloaded from https://nlp.stanford.edu/projects/glove/ (in the code below we have preprocessed them into a bcolz array). We use these because each individual word has a single word vector, which is what we need for translation. Word2vec, on the other hand, often uses multi-word phrases."
   ]
  },
  {
   "cell_type": "code",
   "execution_count": 8,
   "metadata": {
    "collapsed": true,
    "hidden": true
   },
   "outputs": [],
   "source": [
    "def load_glove(loc):\n",
    "    return (bcolz.open(loc+'.dat')[:],\n",
    "        pickle.load(open(loc+'_words.pkl','rb'), encoding='latin1'),\n",
    "        pickle.load(open(loc+'_idx.pkl','rb'), encoding='latin1'))"
   ]
  },
  {
   "cell_type": "code",
   "execution_count": 9,
   "metadata": {
    "collapsed": true,
    "hidden": true
   },
   "outputs": [],
   "source": [
    "hdln_vecs, hdln_wv_word, hdln_wv_idx = load_glove('/mnt/cvl-store-0/home/psxca1/data/glove/6B.300d')\n",
    "hdln_w2v = {w: hdln_vecs[hdln_wv_idx[w]] for w in hdln_wv_word}\n",
    "n_hdln_vec, dim_hdln_vec = hdln_vecs.shape"
   ]
  },
  {
   "cell_type": "code",
   "execution_count": 10,
   "metadata": {
    "hidden": true
   },
   "outputs": [
    {
     "data": {
      "text/plain": [
       "array([ 0.0033901 , -0.34614   ,  0.28143999,  0.48381999,  0.59469002,\n",
       "        0.012965  ,  0.53982002,  0.48232999,  0.21462999, -1.02489996,\n",
       "       -0.34788001, -0.79000998, -0.15084   ,  0.61374003,  0.042811  ,\n",
       "        0.19323   ,  0.25461999,  0.32528001,  0.05698   ,  0.063253  ,\n",
       "       -0.49439001,  0.47336999, -0.16761   ,  0.045594  ,  0.30451   ,\n",
       "       -0.35416001, -0.34582999, -0.20118   ,  0.25511   ,  0.091111  ,\n",
       "        0.014651  , -0.017541  , -0.23853999,  0.48214999, -0.9145    ,\n",
       "       -0.36234999,  0.34735999,  0.028639  , -0.027065  , -0.036481  ,\n",
       "       -0.067391  , -0.23452   , -0.13772   ,  0.33950999,  0.13415   ,\n",
       "       -0.13420001,  0.47856   , -0.1842    ,  0.10705   , -0.45833999,\n",
       "       -0.36085001, -0.22595   ,  0.32881001, -0.13643   ,  0.23128   ,\n",
       "        0.34268999,  0.42344001,  0.47057   ,  0.479     ,  0.074639  ,\n",
       "        0.3344    ,  0.10714   , -0.13289   ,  0.58734   ,  0.38615999,\n",
       "       -0.52237999, -0.22028001, -0.072322  ,  0.32269001,  0.44226   ,\n",
       "       -0.037382  ,  0.18324   ,  0.058082  ,  0.26938   ,  0.36201999,\n",
       "        0.13982999,  0.016815  , -0.34426001,  0.48269999,  0.21080001,\n",
       "        0.75617999, -0.13091999, -0.025741  ,  0.43391001,  0.33893001,\n",
       "       -0.16438   ,  0.26817   ,  0.68774003,  0.31099999, -0.2509    ,\n",
       "        0.0027749 , -0.39809   , -0.43399   ,  0.049531  , -0.42686   ,\n",
       "       -0.094679  ,  0.56924999,  0.28742   , -0.015721  , -0.059162  ,\n",
       "        0.1912    , -0.59814   ,  0.65486002, -0.31363001,  0.16881   ,\n",
       "        0.10862   ,  0.075316  ,  0.34093001, -0.14706001,  0.83590001,\n",
       "        0.39697   ,  0.52358001, -0.0096367 , -0.14406   ,  0.37783   ,\n",
       "       -0.59600002, -0.063192  , -0.85297   , -0.3098    , -1.05869997,\n",
       "       -1.02499998,  0.4508    , -0.73324001, -1.24609995, -0.028488  ,\n",
       "        0.20299   ,  0.00259   ,  0.31995001,  0.35743999,  0.28533   ,\n",
       "        0.228     ,  0.50955999, -0.35942   ,  0.32683   ,  0.046264  ,\n",
       "       -0.86896002, -0.27070001, -0.15454   , -0.32152   ,  0.31121001,\n",
       "        0.44134   ,  0.85189003,  0.21065   , -0.13741   , -0.15358999,\n",
       "       -0.059722  ,  0.027375  ,  0.23724   , -0.39197001, -0.66065001,\n",
       "        0.23587   ,  0.032384  , -0.64042997,  0.55004001,  0.29596999,\n",
       "        0.14989001,  0.46079001, -0.26561001, -0.16069999, -0.36328   ,\n",
       "        1.07819998,  0.31375   ,  0.1149    ,  0.20248   ,  0.032748  ,\n",
       "        0.41082001, -0.082536  ,  0.36605999,  0.18771   ,  0.75414997,\n",
       "        0.079648  ,  0.24180999, -0.60319   , -0.37296   , -0.047767  ,\n",
       "        0.45008001, -0.21134999,  0.022251  , -0.084325  ,  0.18644001,\n",
       "       -0.14681999,  0.56571001, -0.30994999,  0.17422999, -0.41122001,\n",
       "       -0.84772003, -0.71113998,  0.69894999, -0.13008   , -0.34195   ,\n",
       "       -0.30500999, -0.12646   ,  0.29956999, -0.43487999,  0.31935   ,\n",
       "        0.28169999, -0.20631   , -0.48877001,  0.34477001,  0.03907   ,\n",
       "        1.61979997, -0.63520002, -0.0037675 , -0.41271001,  0.30704001,\n",
       "       -0.50485998,  0.036385  , -0.046386  , -0.12004   ,  0.010029  ,\n",
       "       -0.49116001,  0.041486  ,  0.002979  , -0.57694   , -0.42087999,\n",
       "       -0.063218  ,  0.0034244 , -0.25093001, -0.39689001, -0.36984   ,\n",
       "        0.32688999,  0.01385   ,  0.23634   , -0.055199  , -0.58453   ,\n",
       "        0.13211   ,  0.50942999,  0.25198001, -0.0088309 , -0.21273001,\n",
       "       -0.48423001,  0.52340001, -0.32832   , -0.013821  ,  0.15812001,\n",
       "        0.46696001,  0.036822  , -0.090878  ,  0.18854   ,  0.20794   ,\n",
       "       -0.42682001,  0.59705001,  0.53109002,  0.19185001, -0.16392   ,\n",
       "        0.064956  , -0.36008999, -0.59881997, -0.28134   ,  0.1017    ,\n",
       "        0.02601   ,  0.44297999, -0.31922001, -0.22431999,  0.78280002,\n",
       "        0.041307  ,  0.1742    ,  0.27777001,  0.43792   , -0.84324002,\n",
       "        0.27011999, -0.21547   ,  0.52407998, -0.19426   , -0.21878   ,\n",
       "       -0.20713   ,  0.092994  , -0.15804   ,  0.28716001, -0.11911   ,\n",
       "       -0.20688   , -0.36482   ,  0.68548   , -0.10394   , -0.49974   ,\n",
       "       -0.47038001, -1.29530001, -0.46235999,  0.44466999,  0.13337   ,\n",
       "        0.88761997, -0.26493999,  0.080676  , -0.20625   , -0.51231998,\n",
       "        0.31112   ,  0.062035  ,  0.30302   , -0.33344001, -0.20924   ,\n",
       "       -0.17348   , -0.43434   , -0.45743001, -0.077803  , -0.33248001,\n",
       "       -0.078633  ,  0.82182002,  0.082088  , -0.68795002,  0.30265999], dtype=float32)"
      ]
     },
     "execution_count": 10,
     "metadata": {},
     "output_type": "execute_result"
    }
   ],
   "source": [
    "hdln_w2v['king']"
   ]
  },
  {
   "cell_type": "markdown",
   "metadata": {
    "hidden": true
   },
   "source": [
    "For French word vectors, we're using those from http://fauconnier.github.io/index.html"
   ]
  },
  {
   "cell_type": "code",
   "execution_count": 11,
   "metadata": {
    "collapsed": true
   },
   "outputs": [],
   "source": [
    "art_vecs, art_wv_word, art_wv_idx = load_glove('/mnt/cvl-store-0/home/psxca1/data/glove/6B.300d')\n",
    "art_w2v = {w: art_vecs[art_wv_idx[w]] for w in art_wv_word}\n",
    "n_art_vec, dim_art_vec = art_vecs.shape"
   ]
  },
  {
   "cell_type": "markdown",
   "metadata": {
    "hidden": true
   },
   "source": [
    "We need to map each word index in our vocabs to their word vector. Not every word in our vocabs will be in our word vectors, since our tokenization approach won't be identical to the word vector creators - in these cases we simply create a random vector."
   ]
  },
  {
   "cell_type": "code",
   "execution_count": 12,
   "metadata": {
    "collapsed": true,
    "hidden": true
   },
   "outputs": [],
   "source": [
    "def create_emb(w2v, targ_vocab, dim_vec):\n",
    "    vocab_size = len(targ_vocab)\n",
    "    emb = np.zeros((vocab_size, dim_vec))\n",
    "    found=0\n",
    "\n",
    "    for i, word in enumerate(targ_vocab):\n",
    "        try: emb[i] = w2v[word]; found+=1\n",
    "        except KeyError: emb[i] = np.random.normal(scale=0.6, size=(dim_vec,))\n",
    "\n",
    "    return emb, found"
   ]
  },
  {
   "cell_type": "code",
   "execution_count": 13,
   "metadata": {
    "hidden": true
   },
   "outputs": [
    {
     "data": {
      "text/plain": [
       "((38879, 300), 36743)"
      ]
     },
     "execution_count": 13,
     "metadata": {},
     "output_type": "execute_result"
    }
   ],
   "source": [
    "hdln_embs, found = create_emb(hdln_w2v, hdln_vocab, dim_hdln_vec); hdln_embs.shape, found"
   ]
  },
  {
   "cell_type": "code",
   "execution_count": 14,
   "metadata": {
    "hidden": true
   },
   "outputs": [
    {
     "data": {
      "text/plain": [
       "((63727, 300), 58397)"
      ]
     },
     "execution_count": 14,
     "metadata": {},
     "output_type": "execute_result"
    }
   ],
   "source": [
    "art_embs, found = create_emb(art_w2v, art_vocab, dim_art_vec); art_embs.shape, found"
   ]
  },
  {
   "cell_type": "markdown",
   "metadata": {
    "heading_collapsed": true
   },
   "source": [
    "## Prep data"
   ]
  },
  {
   "cell_type": "markdown",
   "metadata": {
    "hidden": true
   },
   "source": [
    "Each sentence has to be of equal length. Keras has a convenient function `pad_sequences` to truncate and/or pad each sentence as required - even although we're not using keras for the neural net, we can still use any functions from it we need!"
   ]
  },
  {
   "cell_type": "code",
   "execution_count": 15,
   "metadata": {
    "hidden": true
   },
   "outputs": [
    {
     "data": {
      "text/plain": [
       "((99812, 30), (99812, 50), (38879, 300))"
      ]
     },
     "execution_count": 15,
     "metadata": {},
     "output_type": "execute_result"
    }
   ],
   "source": [
    "from keras.preprocessing.sequence import pad_sequences\n",
    "hdln_len = 30\n",
    "art_len = 50\n",
    "\n",
    "hdln_padded = pad_sequences(hdln_ids, hdln_len, 'int64', \"post\", \"post\")\n",
    "art_padded = pad_sequences(art_ids, art_len, 'int64', \"post\", \"post\")\n",
    "hdln_padded.shape, art_padded.shape, hdln_embs.shape"
   ]
  },
  {
   "cell_type": "markdown",
   "metadata": {
    "hidden": true
   },
   "source": [
    "And of course we need to separate our training and test sets..."
   ]
  },
  {
   "cell_type": "code",
   "execution_count": 29,
   "metadata": {
    "hidden": true
   },
   "outputs": [
    {
     "data": {
      "text/plain": [
       "[(89830, 50), (9982, 50), (89830, 30), (9982, 30)]"
      ]
     },
     "execution_count": 29,
     "metadata": {},
     "output_type": "execute_result"
    }
   ],
   "source": [
    "from sklearn import model_selection\n",
    "art_train, art_test, hdln_train, hdln_test = model_selection.train_test_split(\n",
    "    art_padded, hdln_padded, test_size=0.1)\n",
    "\n",
    "[o.shape for o in (art_train, art_test, hdln_train, hdln_test)]"
   ]
  },
  {
   "cell_type": "code",
   "execution_count": 16,
   "metadata": {
    "collapsed": true
   },
   "outputs": [],
   "source": [
    "art_train = pickle.load( open('1art_train.pkl', 'rb') )\n",
    "art_test = pickle.load( open('1art_test.pkl', 'rb') )\n",
    "hdln_train = pickle.load( open('1hdln_train.pkl', 'rb') )\n",
    "hdln_test = pickle.load( open('1hdln_test.pkl', 'rb') )"
   ]
  },
  {
   "cell_type": "markdown",
   "metadata": {
    "hidden": true
   },
   "source": [
    "Here's an example of a French and English sentence, after encoding and padding."
   ]
  },
  {
   "cell_type": "code",
   "execution_count": 17,
   "metadata": {
    "hidden": true
   },
   "outputs": [
    {
     "data": {
      "text/plain": [
       "(array([    3,   134,     6,    82,   183,    19,  1120,    23,    29,\n",
       "         4725,    43,  5378,  1009,     8,  2012,    25,  3703,  3754,\n",
       "          995,    21,    18,    36,    34,  2814,  2229, 11172,     9,\n",
       "            3,  3015,   693,   242,   124,  3995,    54,  2468,   104,\n",
       "            9,     3,   311,   271,    83,     4,     0,     0,     0,\n",
       "            0,     0,     0,     0,     0]),\n",
       " array([  759, 11954,  1034,     8,    25,  3280,     4,  1949,   751,\n",
       "            0,     0,     0,     0,     0,     0,     0,     0,     0,\n",
       "            0,     0,     0,     0,     0,     0,     0,     0,     0,\n",
       "            0,     0,     0]))"
      ]
     },
     "execution_count": 17,
     "metadata": {},
     "output_type": "execute_result"
    }
   ],
   "source": [
    "art_train[0], hdln_train[0]"
   ]
  },
  {
   "cell_type": "markdown",
   "metadata": {},
   "source": [
    "## Model"
   ]
  },
  {
   "cell_type": "markdown",
   "metadata": {},
   "source": [
    "### Basic encoder-decoder"
   ]
  },
  {
   "cell_type": "code",
   "execution_count": 18,
   "metadata": {
    "collapsed": true
   },
   "outputs": [],
   "source": [
    "def long_t(arr): return Variable(torch.LongTensor(arr)).cuda()"
   ]
  },
  {
   "cell_type": "code",
   "execution_count": 19,
   "metadata": {
    "collapsed": true
   },
   "outputs": [],
   "source": [
    "art_emb_t = torch.FloatTensor(art_embs).cuda()\n",
    "hdln_emb_t = torch.FloatTensor(hdln_embs).cuda()"
   ]
  },
  {
   "cell_type": "code",
   "execution_count": 20,
   "metadata": {
    "collapsed": true
   },
   "outputs": [],
   "source": [
    "def create_emb(emb_mat, non_trainable=False):\n",
    "    output_size, emb_size = emb_mat.size()\n",
    "    emb = nn.Embedding(output_size, emb_size)\n",
    "    emb.load_state_dict({'weight': emb_mat})\n",
    "    if non_trainable:\n",
    "        for param in emb.parameters(): \n",
    "            param.requires_grad = False\n",
    "    return emb, emb_size, output_size"
   ]
  },
  {
   "cell_type": "markdown",
   "metadata": {},
   "source": [
    "Turning a sequence into a representation can be done using an RNN (called the 'encoder'. This approach is useful because RNN's are able to keep track of state and memory, which is obviously important in forming a complete understanding of a sentence.\n",
    "* `bidirectional=True` passes the original sequence through an RNN, and the reversed sequence through a different RNN and concatenates the results. This allows us to look forward and backwards.\n",
    "* We do this because in language things that happen later often influence what came before (i.e. in Spanish, \"el chico, la chica\" means the boy, the girl; the word for \"the\" is determined by the gender of the subject, which comes after)."
   ]
  },
  {
   "cell_type": "code",
   "execution_count": 21,
   "metadata": {
    "collapsed": true
   },
   "outputs": [],
   "source": [
    "class EncoderRNN(nn.Module):\n",
    "    def __init__(self, embs, hidden_size, n_layers=4, dropout=0.2):\n",
    "        super(EncoderRNN, self).__init__()\n",
    "        self.emb, emb_size, output_size = create_emb(embs)\n",
    "        self.n_layers = n_layers\n",
    "        self.dropout = dropout\n",
    "        self.hidden_size = hidden_size\n",
    "        self.gru = nn.GRU(emb_size, hidden_size, batch_first=True, num_layers=self.n_layers, bidirectional=True, dropout=self.dropout)\n",
    "        \n",
    "    def forward(self, inp, hidden):\n",
    "        outputs, hidden = self.gru(self.emb(inp), hidden)\n",
    "        return outputs, hidden\n",
    "\n",
    "    def initHidden(self, batch_size):\n",
    "        return Variable(torch.zeros(self.n_layers * 2, batch_size, self.hidden_size)) # * 2 for bidirectional"
   ]
  },
  {
   "cell_type": "code",
   "execution_count": 22,
   "metadata": {
    "collapsed": true
   },
   "outputs": [],
   "source": [
    "def encode(inp, encoder):\n",
    "    batch_size, input_length = inp.size()\n",
    "    hidden = encoder.initHidden(batch_size).cuda()\n",
    "    enc_outputs, hidden = encoder(inp, hidden)\n",
    "    return long_t([SOS]*batch_size), enc_outputs, hidden\n"
   ]
  },
  {
   "cell_type": "markdown",
   "metadata": {},
   "source": [
    "Finally, we arrive at a vector representation of the sequence which captures everything we need to translate it. We feed this vector into more RNN's, which are trying to generate the labels. After this, we make a classification for what each word is in the output sequence."
   ]
  },
  {
   "cell_type": "code",
   "execution_count": 36,
   "metadata": {
    "collapsed": true
   },
   "outputs": [],
   "source": [
    "class DecoderRNN(nn.Module):\n",
    "    def __init__(self, embs, hidden_size, n_layers=2):\n",
    "        super(DecoderRNN, self).__init__()\n",
    "        self.emb, emb_size, output_size = create_emb(embs)\n",
    "        self.gru = nn.GRU(emb_size, hidden_size, batch_first=True, num_layers=n_layers)\n",
    "        self.out = nn.Linear(hidden_size, output_size)\n",
    "        \n",
    "    def forward(self, inp, hidden):\n",
    "        emb = self.emb(inp).unsqueeze(1)\n",
    "        res, hidden = self.gru(emb, hidden)\n",
    "        res = F.log_softmax(self.out(res[:,0]))\n",
    "        return res, hidden"
   ]
  },
  {
   "cell_type": "markdown",
   "metadata": {},
   "source": [
    "This graph demonstrates the accuracy decay for a neural translation task. With an encoding/decoding technique, larger input sequences result in less accuracy.\n",
    "\n",
    "<img src=\"https://smerity.com/media/images/articles/2016/bahdanau_attn.png\" width=\"600\">\n",
    "\n",
    "This can be mitigated using an attentional model."
   ]
  },
  {
   "cell_type": "markdown",
   "metadata": {
    "heading_collapsed": true
   },
   "source": [
    "### Adding broadcasting to Pytorch"
   ]
  },
  {
   "cell_type": "code",
   "execution_count": 23,
   "metadata": {
    "collapsed": true,
    "hidden": true
   },
   "outputs": [],
   "source": [
    "def unit_prefix(x, n=1):\n",
    "    for i in range(n): x = x.unsqueeze(0)\n",
    "    return x\n",
    "\n",
    "def align(x, y, start_dim=2):\n",
    "    xd, yd = x.dim(), y.dim()\n",
    "    if xd > yd: y = unit_prefix(y, xd - yd)\n",
    "    elif yd > xd: x = unit_prefix(x, yd - xd)\n",
    "\n",
    "    xs, ys = list(x.size()), list(y.size())\n",
    "    nd = len(ys)\n",
    "    for i in range(start_dim, nd):\n",
    "        td = nd-i-1\n",
    "        if   ys[td]==1: ys[td] = xs[td]\n",
    "        elif xs[td]==1: xs[td] = ys[td]\n",
    "    return x.expand(*xs), y.expand(*ys)"
   ]
  },
  {
   "cell_type": "code",
   "execution_count": 24,
   "metadata": {
    "collapsed": true,
    "hidden": true
   },
   "outputs": [],
   "source": [
    "def aligned_op(x,y,f): return f(*align(x,y,0))\n",
    "\n",
    "def add(x, y): return aligned_op(x, y, operator.add)\n",
    "def sub(x, y): return aligned_op(x, y, operator.sub)\n",
    "def mul(x, y): return aligned_op(x, y, operator.mul)\n",
    "def div(x, y): return aligned_op(x, y, operator.truediv)"
   ]
  },
  {
   "cell_type": "code",
   "execution_count": 25,
   "metadata": {
    "collapsed": true,
    "hidden": true
   },
   "outputs": [],
   "source": [
    "def dot(x, y):\n",
    "    assert(1<y.dim()<5)\n",
    "    x, y = align(x, y)\n",
    "    \n",
    "    if y.dim() == 2: return x.mm(y)\n",
    "    elif y.dim() == 3: return x.bmm(y)\n",
    "    else:\n",
    "        xs,ys = x.size(), y.size()\n",
    "        res = torch.zeros(*(xs[:-1] + (ys[-1],)))\n",
    "        for i in range(xs[0]): res[i].baddbmm_(x[i], (y[i]))\n",
    "        return res"
   ]
  },
  {
   "cell_type": "markdown",
   "metadata": {
    "heading_collapsed": true
   },
   "source": [
    "### Attentional model"
   ]
  },
  {
   "cell_type": "code",
   "execution_count": 26,
   "metadata": {
    "collapsed": true
   },
   "outputs": [],
   "source": [
    "def Arr(*sz): return torch.randn(sz)/math.sqrt(sz[0])\n",
    "def Var(*sz): return nn.Parameter(Arr(*sz)).cuda()"
   ]
  },
  {
   "cell_type": "code",
   "execution_count": 27,
   "metadata": {
    "collapsed": true,
    "hidden": true
   },
   "outputs": [],
   "source": [
    "class AttnDecoderRNN(nn.Module):\n",
    "    def __init__(self, embs, hidden_size, n_layers=2, p=0.2):\n",
    "        super(AttnDecoderRNN, self).__init__()\n",
    "        self.hidden_size = hidden_size\n",
    "        self.n_layers=n_layers\n",
    "        self.p=p\n",
    "        self.emb_dropout = nn.Dropout(p)\n",
    "        \n",
    "        self.emb, emb_size, output_size = create_emb(embs)\n",
    "        self.W1 = Var(hidden_size*2, hidden_size) # * 2 for bidirectional\n",
    "        self.W2 = Var(hidden_size, hidden_size)\n",
    "        self.W3 = Var(emb_size+hidden_size*2, hidden_size) # * 2 for bidirectional\n",
    "        self.b2 = Var(1,hidden_size)\n",
    "        self.b3 = Var(1,hidden_size)\n",
    "        self.V = Var(1,1,hidden_size)\n",
    "        self.gru = nn.GRU(hidden_size, hidden_size, num_layers=n_layers, bidirectional=True, dropout=self.p)\n",
    "        self.out = nn.Linear(hidden_size*2, output_size) # * 2 for bidirectional\n",
    "\n",
    "    def forward(self, inp, hidden, enc_outputs):\n",
    "        emb_inp = self.emb_dropout(self.emb(inp))\n",
    "        w1e = dot(enc_outputs, self.W1)\n",
    "        w2h = dot(hidden[-1], self.W2)\n",
    "        w2h = (w2h+self.b2.expand_as(w2h)).unsqueeze(1)\n",
    "        u = F.tanh(w1e + w2h.expand_as(w1e))\n",
    "        a = (self.V.expand_as(u)*u).sum(2).squeeze(2)\n",
    "        a = F.softmax(a).unsqueeze(2)        \n",
    "        Xa = (a.expand_as(enc_outputs) * enc_outputs).sum(1)     \n",
    "        res = dot(torch.cat([emb_inp, Xa.squeeze(1)], 1), self.W3)\n",
    "        res = (res+self.b3.expand_as(res)).unsqueeze(0)\n",
    "        res, hidden = self.gru(res, hidden)\n",
    "        res = F.log_softmax(self.out(res.squeeze(0)))\n",
    "        ret = res, hidden\n",
    "        return ret"
   ]
  },
  {
   "cell_type": "markdown",
   "metadata": {},
   "source": [
    "## Train"
   ]
  },
  {
   "cell_type": "code",
   "execution_count": 28,
   "metadata": {
    "collapsed": true,
    "hidden": true
   },
   "outputs": [],
   "source": [
    "def get_batch(x, y, batch_size=16):\n",
    "    idxs = np.random.permutation(len(x))[:batch_size]\n",
    "    return x[idxs], y[idxs]"
   ]
  },
  {
   "cell_type": "markdown",
   "metadata": {},
   "source": [
    "Pytorch has limited functionality for training models automatically - you will generally have to write your own training loops. However, Pytorch makes it far easier to customize how this training is done, such as using *teacher forcing*."
   ]
  },
  {
   "cell_type": "code",
   "execution_count": 29,
   "metadata": {
    "collapsed": true
   },
   "outputs": [],
   "source": [
    "def train(inp, targ, encoder, decoder, enc_opt, dec_opt, crit, teacher_forcing_ratio):\n",
    "    decoder_input, encoder_outputs, hidden = encode(inp, encoder)\n",
    "    target_length = targ.size()[1]\n",
    "    \n",
    "    enc_opt.zero_grad(); dec_opt.zero_grad()\n",
    "    loss = 0\n",
    "\n",
    "    if random.random() < teacher_forcing_ratio:\n",
    "        for di in range(target_length):\n",
    "            decoder_output, hidden = decoder(decoder_input, hidden, encoder_outputs)\n",
    "            loss += crit(decoder_output, targ[:, di])\n",
    "            decoder_input = targ[:, di]\n",
    "            \n",
    "    else: # feed output for next input\n",
    "        for di in range(target_length):\n",
    "            decoder_output, hidden = decoder(decoder_input, hidden, encoder_outputs)\n",
    "            loss += crit(decoder_output, targ[:, di])\n",
    "            topv, topi = decoder_output.data.topk(1);\n",
    "            decoder_input = Variable(topi.squeeze()).cuda()\n",
    "\n",
    "    loss.backward()\n",
    "    enc_opt.step(); dec_opt.step()\n",
    "    return loss.data[0] / target_length"
   ]
  },
  {
   "cell_type": "code",
   "execution_count": 30,
   "metadata": {
    "collapsed": true
   },
   "outputs": [],
   "source": [
    "def calc_minutes(since):\n",
    "    now = time.time()\n",
    "    s = now - since\n",
    "    return s/60\n",
    "\n",
    "def as_minutes(s):\n",
    "    m = math.floor(s / 60)\n",
    "    s -= m * 60\n",
    "    return '%dm %ds' % (m, s)\n",
    "\n",
    "def time_since(since, percent):\n",
    "    now = time.time()\n",
    "    s = now - since\n",
    "    es = s / (percent)\n",
    "    rs = es - s\n",
    "    return '%-7s (- %s)' % (as_minutes(s), as_minutes(rs))"
   ]
  },
  {
   "cell_type": "code",
   "execution_count": 31,
   "metadata": {
    "collapsed": true
   },
   "outputs": [],
   "source": [
    "def req_grad_params(o):\n",
    "    return (p for p in o.parameters() if p.requires_grad)"
   ]
  },
  {
   "cell_type": "code",
   "execution_count": 32,
   "metadata": {
    "collapsed": true
   },
   "outputs": [],
   "source": [
    "def trainEpochs(encoder, decoder, n_epochs, start_time, times_list, avg_loss_list, epochs_list,\\\n",
    "                print_every=200, lr=0.01, plot_loss_every=20, teacher_forcing = 'graduated',):\n",
    "    print('LEARNING RATE: %f' % (lr))\n",
    "    print_loss = 0 # Reset every print_every\n",
    "    plot_loss = 0\n",
    "    \n",
    "    enc_opt = optim.Adam(req_grad_params(encoder), lr=lr)\n",
    "    dec_opt = optim.Adam(decoder.parameters(), lr=lr)\n",
    "    crit = nn.NLLLoss().cuda()\n",
    "    \n",
    "    for epoch in range(n_epochs):\n",
    "        art, hdln = get_batch(art_train, hdln_train, 128)\n",
    "        inp = long_t(art)\n",
    "        targ = long_t(hdln)\n",
    "        \n",
    "        try:\n",
    "            isinstance(teacher_forcing, (str, float, int))\n",
    "        except:\n",
    "            raise TypeError\n",
    "        \n",
    "        if teacher_forcing == 'graduated':\n",
    "            teacher_forcing_ratio = 1 - epoch/n_epochs\n",
    "        elif teacher_forcing == 'full':\n",
    "            teacher_forcing_ratio = 1\n",
    "        elif teacher_forcing == 'none':\n",
    "            teacher_forcing_ratio = 0\n",
    "        elif teacher_forcing <= 1 and teacher_forcing >= 0:\n",
    "            teacher_forcing_ratio = teacher_forcing\n",
    "        else:\n",
    "            raise ValueError\n",
    "        \n",
    "        loss = train(inp, targ, encoder, decoder, enc_opt, dec_opt, crit, teacher_forcing_ratio)\n",
    "        print_loss += loss\n",
    "        plot_loss += loss\n",
    "\n",
    "        if epoch % print_every == 0 and epoch is not 0:\n",
    "            print('%s\\t%d\\t%d%%\\t%.4f' % (time_since(start_time, epoch / n_epochs), \\\n",
    "                                          epoch, epoch / n_epochs * 100, print_loss / print_every))\n",
    "            print_loss = 0\n",
    "        \n",
    "        if epoch % plot_loss_every == 0 and epoch is not 0:\n",
    "            times_list.append(calc_minutes(start_time))\n",
    "            avg_loss_list.append(plot_loss / plot_loss_every)\n",
    "            epochs_list.append(epoch)\n",
    "            plot_loss = 0"
   ]
  },
  {
   "cell_type": "markdown",
   "metadata": {},
   "source": [
    "## Training Loop"
   ]
  },
  {
   "cell_type": "code",
   "execution_count": 33,
   "metadata": {
    "collapsed": true
   },
   "outputs": [],
   "source": [
    "def multi_train(encoder, decoder, times_list, avg_loss_list, epochs_list, teacher_forcing_type):\n",
    "    start_time = time.time()\n",
    "    trainEpochs(encoder, decoder, 5000, start_time, times_list, avg_loss_list, epochs_list, lr=0.003, teacher_forcing=teacher_forcing_type)\n",
    "    trainEpochs(encoder, decoder, 5000, start_time, times_list, avg_loss_list, epochs_list, lr=0.003, teacher_forcing=teacher_forcing_type)\n",
    "    trainEpochs(encoder, decoder, 5000, start_time, times_list, avg_loss_list, epochs_list, lr=0.001, teacher_forcing=teacher_forcing_type)\n",
    "    trainEpochs(encoder, decoder, 5000, start_time, times_list, avg_loss_list, epochs_list, lr=0.001, teacher_forcing=teacher_forcing_type)\n",
    "    trainEpochs(encoder, decoder, 5000, start_time, times_list, avg_loss_list, epochs_list, lr=0.0003, teacher_forcing=teacher_forcing_type)\n",
    "    trainEpochs(encoder, decoder, 5000, start_time, times_list, avg_loss_list, epochs_list, lr=0.0003, teacher_forcing=teacher_forcing_type)\n",
    "    trainEpochs(encoder, decoder, 5000, start_time, times_list, avg_loss_list, epochs_list, lr=0.0001, teacher_forcing=teacher_forcing_type)\n",
    "    trainEpochs(encoder, decoder, 5000, start_time, times_list, avg_loss_list, epochs_list, lr=0.00003, teacher_forcing=teacher_forcing_type)"
   ]
  },
  {
   "cell_type": "markdown",
   "metadata": {},
   "source": [
    "## Prepare Testing Functions"
   ]
  },
  {
   "cell_type": "code",
   "execution_count": null,
   "metadata": {
    "collapsed": true
   },
   "outputs": [],
   "source": [
    "def evaluate(inp):\n",
    "    decoder_input, encoder_outputs, hidden = encode(inp, encoder)\n",
    "    target_length = hdln_len\n",
    "\n",
    "    decoded_words = []\n",
    "    for di in range(target_length):\n",
    "        decoder_output, hidden = decoder(decoder_input, hidden, encoder_outputs)\n",
    "        topv, topi = decoder_output.data.topk(1)\n",
    "        ni = topi[0][0];\n",
    "        if ni==PAD: break\n",
    "        decoded_words.append(hdln_vocab[ni])\n",
    "        decoder_input = long_t([ni])\n",
    "    \n",
    "    return decoded_words"
   ]
  },
  {
   "cell_type": "code",
   "execution_count": null,
   "metadata": {
    "collapsed": true
   },
   "outputs": [],
   "source": [
    "# create blank files/erase previous content\n",
    "#with open('./Dissertation/data/system/newsdecoded.txt','w') as dec_file, open('./rouge_eval/real_sents.txt', 'w') as source_file:\n",
    "def test(f_path):\n",
    "    ref_dir = f_path+'/reference/'\n",
    "    system_dir = f_path+'/system/'\n",
    "    \n",
    "    if not os.path.exists(ref_dir): os.makedirs(os.path.dirname(ref_dir), exist_ok=True)\n",
    "    if not os.path.exists(system_dir): os.makedirs(os.path.dirname(system_dir), exist_ok=True)\n",
    "    \n",
    "    for idx in range(len(art_test)):\n",
    "        real_sent = [hdln_id2w[t] for t in hdln_test[idx] if t != 0]\n",
    "        if real_sent:\n",
    "            with open(ref_dir + 'news%d_reference%d' % (idx, idx), 'w') as f:\n",
    "                f.write(' '.join(real_sent))\n",
    "        else:\n",
    "            continue\n",
    "\n",
    "        ids = long_t(art_test[idx]); ids = ids.unsqueeze(0)\n",
    "        translation = evaluate(ids)\n",
    "        with open(system_dir + 'news%d_system%d' % (idx, idx), 'w') as f:\n",
    "            f.write(' '.join(translation))"
   ]
  },
  {
   "cell_type": "markdown",
   "metadata": {},
   "source": [
    "# Run"
   ]
  },
  {
   "cell_type": "code",
   "execution_count": 34,
   "metadata": {},
   "outputs": [
    {
     "data": {
      "text/plain": [
       "('./Dissertation/lists/test1/',\n",
       " './Dissertation/encoders_and_decoders/test1/',\n",
       " './Dissertation/rouge_eval/test1/',\n",
       " './Dissertation/plots/test1/')"
      ]
     },
     "execution_count": 34,
     "metadata": {},
     "output_type": "execute_result"
    }
   ],
   "source": [
    "test_num = 1\n",
    "\n",
    "list_path = './Dissertation/lists/test{}/'.format(test_num)\n",
    "enc_dec_path = './Dissertation/encoders_and_decoders/test{}/'.format(test_num)\n",
    "eval_path = './Dissertation/rouge_eval/test{}/'.format(test_num)\n",
    "plot_path = './Dissertation/plots/test{}/'.format(test_num)\n",
    "\n",
    "list_path, enc_dec_path, eval_path, plot_path"
   ]
  },
  {
   "cell_type": "markdown",
   "metadata": {},
   "source": [
    "## Graduated_Reset"
   ]
  },
  {
   "cell_type": "markdown",
   "metadata": {},
   "source": [
    "### Define and Train"
   ]
  },
  {
   "cell_type": "code",
   "execution_count": 83,
   "metadata": {
    "scrolled": true
   },
   "outputs": [
    {
     "name": "stdout",
     "output_type": "stream",
     "text": [
      "LEARNING RATE: 0.003000\n",
      "1m 6s   (- 26m 27s)\t200\t4%\t2.6117\n",
      "2m 12s  (- 25m 27s)\t400\t8%\t2.1652\n",
      "3m 20s  (- 24m 26s)\t600\t12%\t1.9953\n",
      "4m 26s  (- 23m 19s)\t800\t16%\t1.8760\n",
      "5m 33s  (- 22m 14s)\t1000\t20%\t1.8104\n",
      "6m 40s  (- 21m 7s)\t1200\t24%\t1.7213\n",
      "7m 46s  (- 19m 59s)\t1400\t28%\t1.6623\n",
      "8m 54s  (- 18m 55s)\t1600\t32%\t1.6231\n",
      "10m 1s  (- 17m 48s)\t1800\t36%\t1.5799\n",
      "11m 8s  (- 16m 42s)\t2000\t40%\t1.5745\n",
      "12m 15s (- 15m 36s)\t2200\t44%\t1.5008\n",
      "13m 22s (- 14m 29s)\t2400\t48%\t1.5210\n",
      "14m 30s (- 13m 23s)\t2600\t52%\t1.4890\n",
      "15m 37s (- 12m 16s)\t2800\t56%\t1.4636\n",
      "16m 46s (- 11m 10s)\t3000\t60%\t1.4660\n",
      "17m 55s (- 10m 4s)\t3200\t64%\t1.4580\n",
      "19m 3s  (- 8m 58s)\t3400\t68%\t1.4248\n",
      "20m 11s (- 7m 51s)\t3600\t72%\t1.4185\n",
      "21m 19s (- 6m 44s)\t3800\t76%\t1.4144\n",
      "22m 29s (- 5m 37s)\t4000\t80%\t1.3927\n",
      "23m 38s (- 4m 30s)\t4200\t84%\t1.3849\n",
      "24m 47s (- 3m 22s)\t4400\t88%\t1.3483\n",
      "25m 56s (- 2m 15s)\t4600\t92%\t1.3562\n",
      "27m 6s  (- 1m 7s)\t4800\t96%\t1.3279\n",
      "LEARNING RATE: 0.003000\n",
      "29m 20s (- 704m 19s)\t200\t4%\t1.0629\n",
      "30m 27s (- 350m 16s)\t400\t8%\t0.9865\n",
      "31m 33s (- 231m 28s)\t600\t12%\t1.0328\n",
      "32m 41s (- 171m 37s)\t800\t16%\t1.0032\n",
      "33m 48s (- 135m 14s)\t1000\t20%\t0.9896\n",
      "34m 55s (- 110m 36s)\t1200\t24%\t1.0174\n",
      "36m 2s  (- 92m 40s)\t1400\t28%\t0.9763\n",
      "37m 9s  (- 78m 57s)\t1600\t32%\t0.9864\n",
      "38m 16s (- 68m 3s)\t1800\t36%\t1.0015\n",
      "39m 24s (- 59m 7s)\t2000\t40%\t1.0390\n",
      "40m 32s (- 51m 36s)\t2200\t44%\t1.0350\n",
      "41m 40s (- 45m 8s)\t2400\t48%\t1.0118\n",
      "42m 48s (- 39m 30s)\t2600\t52%\t1.0404\n",
      "43m 56s (- 34m 31s)\t2800\t56%\t1.0237\n",
      "45m 5s  (- 30m 3s)\t3000\t60%\t1.0321\n",
      "46m 13s (- 26m 0s)\t3200\t64%\t1.0687\n",
      "47m 22s (- 22m 17s)\t3400\t68%\t1.0559\n",
      "48m 31s (- 18m 52s)\t3600\t72%\t1.0668\n",
      "49m 40s (- 15m 41s)\t3800\t76%\t1.0496\n",
      "50m 49s (- 12m 42s)\t4000\t80%\t1.0595\n",
      "51m 57s (- 9m 53s)\t4200\t84%\t1.0475\n",
      "53m 6s  (- 7m 14s)\t4400\t88%\t1.0515\n",
      "54m 15s (- 4m 43s)\t4600\t92%\t1.0488\n",
      "55m 24s (- 2m 18s)\t4800\t96%\t1.0511\n",
      "LEARNING RATE: 0.001000\n",
      "57m 39s (- 1383m 40s)\t200\t4%\t0.7537\n",
      "58m 45s (- 675m 45s)\t400\t8%\t0.6751\n",
      "59m 51s (- 438m 58s)\t600\t12%\t0.6655\n",
      "60m 57s (- 320m 2s)\t800\t16%\t0.6354\n",
      "62m 3s  (- 248m 15s)\t1000\t20%\t0.6334\n",
      "63m 10s (- 200m 2s)\t1200\t24%\t0.6289\n",
      "64m 16s (- 165m 17s)\t1400\t28%\t0.6423\n",
      "65m 23s (- 138m 58s)\t1600\t32%\t0.6568\n",
      "66m 30s (- 118m 14s)\t1800\t36%\t0.6518\n",
      "67m 37s (- 101m 26s)\t2000\t40%\t0.6510\n",
      "68m 45s (- 87m 30s)\t2200\t44%\t0.6353\n",
      "69m 53s (- 75m 43s)\t2400\t48%\t0.6496\n",
      "71m 1s  (- 65m 33s)\t2600\t52%\t0.6590\n",
      "72m 9s  (- 56m 41s)\t2800\t56%\t0.6494\n",
      "73m 16s (- 48m 51s)\t3000\t60%\t0.6614\n",
      "74m 24s (- 41m 51s)\t3200\t64%\t0.6560\n",
      "75m 33s (- 35m 33s)\t3400\t68%\t0.6972\n",
      "76m 41s (- 29m 49s)\t3600\t72%\t0.6815\n",
      "77m 49s (- 24m 34s)\t3800\t76%\t0.6766\n",
      "78m 58s (- 19m 44s)\t4000\t80%\t0.7018\n",
      "80m 7s  (- 15m 15s)\t4200\t84%\t0.6922\n",
      "81m 16s (- 11m 5s)\t4400\t88%\t0.7052\n",
      "82m 26s (- 7m 10s)\t4600\t92%\t0.7074\n",
      "83m 36s (- 3m 29s)\t4800\t96%\t0.7036\n",
      "LEARNING RATE: 0.001000\n",
      "85m 52s (- 2061m 8s)\t200\t4%\t0.4574\n",
      "86m 59s (- 1000m 21s)\t400\t8%\t0.4301\n",
      "88m 5s  (- 646m 3s)\t600\t12%\t0.4552\n",
      "89m 12s (- 468m 19s)\t800\t16%\t0.4546\n",
      "90m 19s (- 361m 16s)\t1000\t20%\t0.4218\n",
      "91m 26s (- 289m 34s)\t1200\t24%\t0.4628\n",
      "92m 33s (- 238m 1s)\t1400\t28%\t0.4692\n",
      "93m 41s (- 199m 5s)\t1600\t32%\t0.5063\n",
      "94m 48s (- 168m 32s)\t1800\t36%\t0.4962\n",
      "95m 56s (- 143m 55s)\t2000\t40%\t0.5109\n",
      "97m 4s  (- 123m 32s)\t2200\t44%\t0.4950\n",
      "98m 12s (- 106m 23s)\t2400\t48%\t0.5173\n",
      "99m 20s (- 91m 41s)\t2600\t52%\t0.5186\n",
      "100m 27s (- 78m 56s)\t2800\t56%\t0.5256\n",
      "101m 36s (- 67m 44s)\t3000\t60%\t0.5566\n",
      "102m 44s (- 57m 47s)\t3200\t64%\t0.5623\n",
      "103m 53s (- 48m 53s)\t3400\t68%\t0.5661\n",
      "105m 1s (- 40m 50s)\t3600\t72%\t0.5732\n",
      "106m 10s (- 33m 31s)\t3800\t76%\t0.5881\n",
      "107m 18s (- 26m 49s)\t4000\t80%\t0.5939\n",
      "108m 26s (- 20m 39s)\t4200\t84%\t0.5870\n",
      "109m 35s (- 14m 56s)\t4400\t88%\t0.5847\n",
      "110m 43s (- 9m 37s)\t4600\t92%\t0.6017\n",
      "111m 53s (- 4m 39s)\t4800\t96%\t0.6170\n",
      "LEARNING RATE: 0.000300\n",
      "114m 9s (- 2739m 51s)\t200\t4%\t0.3745\n",
      "115m 15s (- 1325m 31s)\t400\t8%\t0.3490\n",
      "116m 22s (- 853m 27s)\t600\t12%\t0.3577\n",
      "117m 29s (- 616m 47s)\t800\t16%\t0.3520\n",
      "118m 35s (- 474m 21s)\t1000\t20%\t0.3676\n",
      "119m 42s (- 379m 4s)\t1200\t24%\t0.3602\n",
      "120m 49s (- 310m 41s)\t1400\t28%\t0.3649\n",
      "121m 57s (- 259m 9s)\t1600\t32%\t0.3773\n",
      "123m 5s (- 218m 49s)\t1800\t36%\t0.3901\n",
      "124m 12s (- 186m 19s)\t2000\t40%\t0.3867\n",
      "125m 20s (- 159m 31s)\t2200\t44%\t0.3862\n",
      "126m 28s (- 137m 0s)\t2400\t48%\t0.3991\n",
      "127m 36s (- 117m 47s)\t2600\t52%\t0.4020\n",
      "128m 43s (- 101m 8s)\t2800\t56%\t0.4151\n",
      "129m 52s (- 86m 35s)\t3000\t60%\t0.4086\n",
      "131m 0s (- 73m 41s)\t3200\t64%\t0.4072\n",
      "132m 9s (- 62m 11s)\t3400\t68%\t0.4272\n",
      "133m 17s (- 51m 50s)\t3600\t72%\t0.4186\n",
      "134m 26s (- 42m 27s)\t3800\t76%\t0.4364\n",
      "135m 34s (- 33m 53s)\t4000\t80%\t0.4440\n",
      "136m 43s (- 26m 2s)\t4200\t84%\t0.4486\n",
      "137m 53s (- 18m 48s)\t4400\t88%\t0.4552\n",
      "139m 2s (- 12m 5s)\t4600\t92%\t0.4528\n",
      "140m 11s (- 5m 50s)\t4800\t96%\t0.4566\n",
      "LEARNING RATE: 0.000300\n",
      "142m 27s (- 3418m 52s)\t200\t4%\t0.2805\n",
      "143m 33s (- 1651m 0s)\t400\t8%\t0.2795\n",
      "144m 41s (- 1061m 4s)\t600\t12%\t0.2881\n",
      "145m 48s (- 765m 28s)\t800\t16%\t0.2956\n",
      "146m 55s (- 587m 42s)\t1000\t20%\t0.2946\n",
      "148m 2s (- 468m 46s)\t1200\t24%\t0.2941\n",
      "149m 9s (- 383m 33s)\t1400\t28%\t0.3052\n",
      "150m 17s (- 319m 21s)\t1600\t32%\t0.3300\n",
      "151m 24s (- 269m 10s)\t1800\t36%\t0.3251\n",
      "152m 32s (- 228m 48s)\t2000\t40%\t0.3387\n",
      "153m 41s (- 195m 36s)\t2200\t44%\t0.3411\n",
      "154m 49s (- 167m 43s)\t2400\t48%\t0.3529\n",
      "155m 57s (- 143m 57s)\t2600\t52%\t0.3719\n",
      "157m 5s (- 123m 25s)\t2800\t56%\t0.3747\n",
      "158m 14s (- 105m 29s)\t3000\t60%\t0.3618\n",
      "159m 22s (- 89m 38s)\t3200\t64%\t0.3643\n",
      "160m 31s (- 75m 32s)\t3400\t68%\t0.3794\n",
      "161m 40s (- 62m 52s)\t3600\t72%\t0.3850\n",
      "162m 48s (- 51m 24s)\t3800\t76%\t0.3895\n",
      "163m 57s (- 40m 59s)\t4000\t80%\t0.3989\n",
      "165m 6s (- 31m 26s)\t4200\t84%\t0.4059\n",
      "166m 15s (- 22m 40s)\t4400\t88%\t0.3996\n",
      "167m 24s (- 14m 33s)\t4600\t92%\t0.4097\n",
      "168m 33s (- 7m 1s)\t4800\t96%\t0.4145\n",
      "LEARNING RATE: 0.000100\n",
      "170m 48s (- 4099m 35s)\t200\t4%\t0.2531\n",
      "171m 56s (- 1977m 16s)\t400\t8%\t0.2516\n",
      "173m 2s (- 1268m 56s)\t600\t12%\t0.2535\n",
      "174m 8s (- 914m 13s)\t800\t16%\t0.2568\n",
      "175m 15s (- 701m 2s)\t1000\t20%\t0.2657\n",
      "176m 23s (- 558m 33s)\t1200\t24%\t0.2715\n",
      "177m 30s (- 456m 26s)\t1400\t28%\t0.2826\n",
      "178m 36s (- 379m 33s)\t1600\t32%\t0.2843\n",
      "179m 44s (- 319m 33s)\t1800\t36%\t0.2893\n",
      "180m 51s (- 271m 17s)\t2000\t40%\t0.3040\n",
      "181m 59s (- 231m 37s)\t2200\t44%\t0.3067\n",
      "183m 7s (- 198m 22s)\t2400\t48%\t0.3158\n",
      "184m 42s (- 170m 29s)\t2600\t52%\t0.3143\n",
      "185m 52s (- 146m 2s)\t2800\t56%\t0.3220\n",
      "187m 1s (- 124m 40s)\t3000\t60%\t0.3248\n",
      "188m 9s (- 105m 50s)\t3200\t64%\t0.3376\n",
      "189m 17s (- 89m 4s)\t3400\t68%\t0.3413\n",
      "190m 26s (- 74m 3s)\t3600\t72%\t0.3499\n",
      "191m 34s (- 60m 29s)\t3800\t76%\t0.3536\n",
      "192m 44s (- 48m 11s)\t4000\t80%\t0.3597\n",
      "193m 53s (- 36m 55s)\t4200\t84%\t0.3522\n",
      "195m 2s (- 26m 35s)\t4400\t88%\t0.3668\n",
      "196m 11s (- 17m 3s)\t4600\t92%\t0.3666\n",
      "197m 21s (- 8m 13s)\t4800\t96%\t0.3777\n",
      "LEARNING RATE: 0.000030\n",
      "199m 37s (- 4791m 4s)\t200\t4%\t0.2409\n",
      "200m 44s (- 2308m 27s)\t400\t8%\t0.2386\n",
      "201m 50s (- 1480m 12s)\t600\t12%\t0.2365\n",
      "202m 56s (- 1065m 25s)\t800\t16%\t0.2375\n",
      "204m 3s (- 816m 13s)\t1000\t20%\t0.2521\n",
      "205m 10s (- 649m 43s)\t1200\t24%\t0.2591\n",
      "206m 18s (- 530m 30s)\t1400\t28%\t0.2554\n",
      "207m 25s (- 440m 46s)\t1600\t32%\t0.2701\n",
      "208m 32s (- 370m 45s)\t1800\t36%\t0.2679\n",
      "209m 40s (- 314m 30s)\t2000\t40%\t0.2826\n",
      "210m 47s (- 268m 17s)\t2200\t44%\t0.2832\n",
      "211m 55s (- 229m 35s)\t2400\t48%\t0.3107\n",
      "213m 3s (- 196m 40s)\t2600\t52%\t0.3027\n",
      "214m 10s (- 168m 17s)\t2800\t56%\t0.3028\n",
      "215m 19s (- 143m 32s)\t3000\t60%\t0.3089\n",
      "216m 27s (- 121m 45s)\t3200\t64%\t0.3211\n",
      "217m 35s (- 102m 23s)\t3400\t68%\t0.3281\n",
      "218m 44s (- 85m 3s)\t3600\t72%\t0.3302\n",
      "219m 52s (- 69m 26s)\t3800\t76%\t0.3368\n",
      "221m 1s (- 55m 15s)\t4000\t80%\t0.3475\n",
      "222m 10s (- 42m 19s)\t4200\t84%\t0.3503\n",
      "223m 19s (- 30m 27s)\t4400\t88%\t0.3538\n",
      "224m 29s (- 19m 31s)\t4600\t92%\t0.3592\n",
      "225m 38s (- 9m 24s)\t4800\t96%\t0.3627\n"
     ]
    }
   ],
   "source": [
    "n_layers = 1\n",
    "hidden_size = 128\n",
    "graduated_reset_epochs_list = []\n",
    "graduated_reset_times_list = []\n",
    "graduated_reset_avg_loss_list = []\n",
    "\n",
    "encoder = EncoderRNN(art_emb_t, hidden_size, n_layers).cuda()\n",
    "decoder = AttnDecoderRNN(hdln_emb_t, hidden_size, n_layers).cuda()\n",
    "multi_train(encoder, decoder, graduated_reset_times_list, graduated_reset_avg_loss_list, graduated_reset_epochs_list, 'graduated')"
   ]
  },
  {
   "cell_type": "code",
   "execution_count": 84,
   "metadata": {
    "collapsed": true
   },
   "outputs": [],
   "source": [
    "with open(list_path+'graduated_reset_epochs_list.pkl', 'wb') as f:\n",
    "    pickle.dump(graduated_reset_epochs_list, f)\n",
    "with open(list_path+'graduated_reset_times_list.pkl', 'wb') as f:\n",
    "    pickle.dump(graduated_reset_times_list, f)\n",
    "with open(list_path+'graduated_reset_avg_loss_list.pkl', 'wb') as f:\n",
    "    pickle.dump(graduated_reset_avg_loss_list, f)"
   ]
  },
  {
   "cell_type": "code",
   "execution_count": 85,
   "metadata": {},
   "outputs": [
    {
     "name": "stderr",
     "output_type": "stream",
     "text": [
      "/home/psxca1/anaconda3/lib/python3.6/site-packages/torch/serialization.py:147: UserWarning: Couldn't retrieve source code for container of type EncoderRNN. It won't be checked for correctness upon loading.\n",
      "  \"type \" + obj.__name__ + \". It won't be checked \"\n",
      "/home/psxca1/anaconda3/lib/python3.6/site-packages/torch/serialization.py:147: UserWarning: Couldn't retrieve source code for container of type AttnDecoderRNN. It won't be checked for correctness upon loading.\n",
      "  \"type \" + obj.__name__ + \". It won't be checked \"\n"
     ]
    }
   ],
   "source": [
    "torch.save(encoder, enc_dec_path+'graduated_reset_encoder.pth')\n",
    "torch.save(decoder, enc_dec_path+'graduated_reset_decoder.pth')"
   ]
  },
  {
   "cell_type": "markdown",
   "metadata": {},
   "source": [
    "### Plot"
   ]
  },
  {
   "cell_type": "code",
   "execution_count": 86,
   "metadata": {},
   "outputs": [
    {
     "data": {
      "image/png": "[encoded data removed]",
      "text/plain": [
       "<matplotlib.figure.Figure at 0x7f67f2414908>"
      ]
     },
     "metadata": {},
     "output_type": "display_data"
    }
   ],
   "source": [
    "plt.plot(graduated_reset_times_list, graduated_reset_avg_loss_list)\n",
    "plt.xlabel('Training Time (Minutes)')\n",
    "plt.ylabel('Average Loss')\n",
    "plt.title('Graduated (Reset) Teacher Forcing Loss over Time')\n",
    "plt.savefig(plot_path+'grad_reset.png')\n",
    "plt.show()"
   ]
  },
  {
   "cell_type": "markdown",
   "metadata": {},
   "source": [
    "### Test"
   ]
  },
  {
   "cell_type": "code",
   "execution_count": 87,
   "metadata": {
    "collapsed": true
   },
   "outputs": [],
   "source": [
    "test(eval_path+'graduated_reset')"
   ]
  },
  {
   "cell_type": "markdown",
   "metadata": {},
   "source": [
    "## Graduated Over Entire Time"
   ]
  },
  {
   "cell_type": "code",
   "execution_count": 94,
   "metadata": {
    "collapsed": true
   },
   "outputs": [],
   "source": [
    "def fullgraduated_trainEpochs(encoder, decoder, total_epochs, start_time, times_list, avg_loss_list, epochs_list,\\\n",
    "                              print_every=200, lr=0.003, plot_loss_every=20):\n",
    "    print(\"LEARNING RATE: %f\" % (lr))\n",
    "    print_loss = 0 # Reset every print_every\n",
    "    plot_loss = 0\n",
    "    \n",
    "    enc_opt = optim.Adam(req_grad_params(encoder), lr=lr)\n",
    "    dec_opt = optim.Adam(decoder.parameters(), lr=lr)\n",
    "    crit = nn.NLLLoss().cuda()\n",
    "    \n",
    "    for epoch in range(total_epochs):\n",
    "        art, hdln = get_batch(art_train, hdln_train, 128)\n",
    "        inp = long_t(art)\n",
    "        targ = long_t(hdln)\n",
    "        \n",
    "        teacher_forcing_ratio = 1 - epoch/total_epochs\n",
    "        \n",
    "        loss = train(inp, targ, encoder, decoder, enc_opt, dec_opt, crit, teacher_forcing_ratio)\n",
    "        print_loss += loss\n",
    "        plot_loss += loss\n",
    "\n",
    "        if epoch % print_every == 0 and epoch is not 0:\n",
    "            print('%s\\t%d\\t%d%%\\t%.4f' % (time_since(start_time, epoch / total_epochs), \\\n",
    "                                          epoch, epoch / total_epochs * 100, print_loss / print_every))\n",
    "            print_loss = 0\n",
    "        \n",
    "        if epoch % plot_loss_every == 0 and epoch is not 0:\n",
    "            times_list.append(calc_minutes(start_time))\n",
    "            avg_loss_list.append(plot_loss / plot_loss_every)\n",
    "            epochs_list.append(epoch)\n",
    "            plot_loss = 0\n",
    "        \n",
    "        if epoch == 10000:\n",
    "            lr = .001\n",
    "            print(\"LEARNING RATE: %f\" % (lr))\n",
    "            enc_opt = optim.Adam(req_grad_params(encoder), lr=lr)\n",
    "            dec_opt = optim.Adam(decoder.parameters(), lr=lr)\n",
    "        elif epoch == 20000:\n",
    "            lr = .0003\n",
    "            print(\"LEARNING RATE: %f\" % (lr))\n",
    "            enc_opt = optim.Adam(req_grad_params(encoder), lr=lr)\n",
    "            dec_opt = optim.Adam(decoder.parameters(), lr=lr)\n",
    "        elif epoch == 30000:\n",
    "            lr = .0001\n",
    "            print(\"LEARNING RATE: %f\" % (lr))\n",
    "            enc_opt = optim.Adam(req_grad_params(encoder), lr=lr)\n",
    "            dec_opt = optim.Adam(decoder.parameters(), lr=lr)\n",
    "        elif epoch == 35000:\n",
    "            lr = .00003\n",
    "            print(\"LEARNING RATE: %f\" % (lr))\n",
    "            enc_opt = optim.Adam(req_grad_params(encoder), lr=lr)\n",
    "            dec_opt = optim.Adam(decoder.parameters(), lr=lr)"
   ]
  },
  {
   "cell_type": "code",
   "execution_count": 95,
   "metadata": {
    "scrolled": true
   },
   "outputs": [
    {
     "name": "stdout",
     "output_type": "stream",
     "text": [
      "LEARNING RATE: 0.003000\n",
      "1m 6s   (- 220m 27s)\t200\t0%\t2.6109\n",
      "2m 12s  (- 218m 38s)\t400\t1%\t2.1162\n",
      "3m 18s  (- 217m 22s)\t600\t1%\t1.8895\n",
      "4m 25s  (- 216m 33s)\t800\t2%\t1.7474\n",
      "5m 31s  (- 215m 28s)\t1000\t2%\t1.6410\n",
      "6m 39s  (- 215m 3s)\t1200\t3%\t1.5354\n",
      "7m 45s  (- 213m 53s)\t1400\t3%\t1.4663\n",
      "8m 52s  (- 213m 1s)\t1600\t4%\t1.4189\n",
      "9m 59s  (- 212m 2s)\t1800\t4%\t1.3220\n",
      "11m 6s  (- 211m 7s)\t2000\t5%\t1.2754\n",
      "12m 13s (- 209m 59s)\t2200\t5%\t1.2047\n",
      "13m 19s (- 208m 51s)\t2400\t6%\t1.1807\n",
      "14m 27s (- 207m 59s)\t2600\t6%\t1.1763\n",
      "15m 34s (- 206m 58s)\t2800\t7%\t1.1196\n",
      "16m 48s (- 207m 24s)\t3000\t7%\t1.1174\n",
      "17m 56s (- 206m 16s)\t3200\t8%\t1.0825\n",
      "19m 4s  (- 205m 18s)\t3400\t8%\t1.0443\n",
      "20m 11s (- 204m 7s)\t3600\t9%\t0.9974\n",
      "21m 18s (- 202m 56s)\t3800\t9%\t1.0187\n",
      "22m 25s (- 201m 53s)\t4000\t10%\t1.0179\n",
      "23m 33s (- 200m 47s)\t4200\t10%\t0.9913\n",
      "24m 54s (- 201m 28s)\t4400\t11%\t0.9559\n",
      "26m 0s  (- 200m 11s)\t4600\t11%\t0.9315\n",
      "27m 6s  (- 198m 47s)\t4800\t12%\t0.9111\n",
      "28m 13s (- 197m 33s)\t5000\t12%\t0.9247\n",
      "29m 19s (- 196m 12s)\t5200\t13%\t0.8759\n",
      "30m 25s (- 194m 54s)\t5400\t13%\t0.9674\n",
      "31m 30s (- 193m 33s)\t5600\t14%\t0.8628\n",
      "32m 36s (- 192m 19s)\t5800\t14%\t0.8103\n",
      "33m 43s (- 191m 7s)\t6000\t15%\t0.8429\n",
      "34m 50s (- 189m 57s)\t6200\t15%\t0.8346\n",
      "35m 58s (- 188m 51s)\t6400\t16%\t0.8492\n",
      "37m 5s  (- 187m 42s)\t6600\t16%\t0.8705\n",
      "38m 12s (- 186m 32s)\t6800\t17%\t0.8245\n",
      "39m 19s (- 185m 23s)\t7000\t17%\t0.8143\n",
      "40m 26s (- 184m 14s)\t7200\t18%\t0.7595\n",
      "41m 33s (- 183m 5s)\t7400\t18%\t0.8476\n",
      "42m 40s (- 181m 56s)\t7600\t19%\t0.7931\n",
      "43m 48s (- 180m 50s)\t7800\t19%\t0.8013\n",
      "44m 55s (- 179m 41s)\t8000\t20%\t0.7382\n",
      "46m 3s  (- 178m 35s)\t8200\t20%\t0.7475\n",
      "47m 10s (- 177m 27s)\t8400\t21%\t0.7693\n",
      "48m 17s (- 176m 18s)\t8600\t21%\t0.7596\n",
      "49m 24s (- 175m 9s)\t8800\t22%\t0.7468\n",
      "50m 31s (- 174m 1s)\t9000\t22%\t0.7479\n",
      "51m 39s (- 172m 55s)\t9200\t23%\t0.7163\n",
      "52m 46s (- 171m 48s)\t9400\t23%\t0.7381\n",
      "53m 53s (- 170m 39s)\t9600\t24%\t0.7302\n",
      "55m 0s  (- 169m 31s)\t9800\t24%\t0.7505\n",
      "56m 8s  (- 168m 24s)\t10000\t25%\t0.7594\n",
      "LEARNING RATE: 0.001000\n",
      "57m 15s (- 167m 17s)\t10200\t25%\t0.7170\n",
      "58m 23s (- 166m 10s)\t10400\t26%\t0.6554\n",
      "59m 30s (- 165m 2s)\t10600\t26%\t0.6557\n",
      "60m 38s (- 163m 57s)\t10800\t27%\t0.6500\n",
      "61m 45s (- 162m 49s)\t11000\t27%\t0.5696\n",
      "62m 52s (- 161m 40s)\t11200\t28%\t0.5784\n",
      "64m 0s  (- 160m 34s)\t11400\t28%\t0.6043\n",
      "65m 7s  (- 159m 27s)\t11600\t28%\t0.5792\n",
      "66m 15s (- 158m 21s)\t11800\t29%\t0.5340\n",
      "67m 24s (- 157m 16s)\t12000\t30%\t0.5758\n",
      "68m 32s (- 156m 11s)\t12200\t30%\t0.5787\n",
      "69m 40s (- 155m 4s)\t12400\t31%\t0.5391\n",
      "70m 48s (- 153m 58s)\t12600\t31%\t0.5401\n",
      "71m 55s (- 152m 50s)\t12800\t32%\t0.5337\n",
      "73m 4s  (- 151m 45s)\t13000\t32%\t0.5101\n",
      "74m 12s (- 150m 39s)\t13200\t33%\t0.5256\n",
      "75m 19s (- 149m 31s)\t13400\t33%\t0.5190\n",
      "76m 26s (- 148m 23s)\t13600\t34%\t0.5340\n",
      "77m 34s (- 147m 16s)\t13800\t34%\t0.5465\n",
      "78m 41s (- 146m 8s)\t14000\t35%\t0.5314\n",
      "79m 50s (- 145m 3s)\t14200\t35%\t0.5088\n",
      "80m 58s (- 143m 57s)\t14400\t36%\t0.5260\n",
      "82m 6s  (- 142m 50s)\t14600\t36%\t0.4823\n",
      "83m 13s (- 141m 42s)\t14800\t37%\t0.4766\n",
      "84m 20s (- 140m 34s)\t15000\t37%\t0.5050\n",
      "85m 28s (- 139m 26s)\t15200\t38%\t0.4836\n",
      "86m 35s (- 138m 18s)\t15400\t38%\t0.5063\n",
      "87m 42s (- 137m 10s)\t15600\t39%\t0.4993\n",
      "88m 53s (- 136m 8s)\t15800\t39%\t0.4824\n",
      "90m 1s  (- 135m 1s)\t16000\t40%\t0.4912\n",
      "91m 8s  (- 133m 54s)\t16200\t40%\t0.4936\n",
      "92m 16s (- 132m 47s)\t16400\t41%\t0.5031\n",
      "93m 24s (- 131m 40s)\t16600\t41%\t0.4761\n",
      "94m 32s (- 130m 33s)\t16800\t42%\t0.4977\n",
      "95m 40s (- 129m 26s)\t17000\t42%\t0.4655\n",
      "96m 48s (- 128m 19s)\t17200\t43%\t0.4752\n",
      "97m 56s (- 127m 12s)\t17400\t43%\t0.4791\n",
      "99m 4s  (- 126m 5s)\t17600\t44%\t0.4848\n",
      "100m 12s (- 124m 58s)\t17800\t44%\t0.4817\n",
      "101m 20s (- 123m 51s)\t18000\t45%\t0.4338\n",
      "102m 27s (- 122m 43s)\t18200\t45%\t0.4597\n",
      "103m 35s (- 121m 36s)\t18400\t46%\t0.4940\n",
      "104m 43s (- 120m 29s)\t18600\t46%\t0.4790\n",
      "105m 51s (- 119m 22s)\t18800\t47%\t0.4698\n",
      "107m 0s (- 118m 15s)\t19000\t47%\t0.4610\n",
      "108m 8s (- 117m 9s)\t19200\t48%\t0.4562\n",
      "109m 16s (- 116m 2s)\t19400\t48%\t0.4858\n",
      "110m 24s (- 114m 54s)\t19600\t49%\t0.4496\n",
      "111m 32s (- 113m 47s)\t19800\t49%\t0.4446\n",
      "112m 40s (- 112m 40s)\t20000\t50%\t0.4825\n",
      "LEARNING RATE: 0.000300\n",
      "113m 49s (- 111m 34s)\t20200\t50%\t0.4673\n",
      "114m 58s (- 110m 27s)\t20400\t51%\t0.4604\n",
      "116m 6s (- 109m 20s)\t20600\t51%\t0.4372\n",
      "117m 13s (- 108m 12s)\t20800\t52%\t0.4062\n",
      "118m 22s (- 107m 5s)\t21000\t52%\t0.4110\n",
      "119m 30s (- 105m 58s)\t21200\t53%\t0.4171\n",
      "120m 37s (- 104m 50s)\t21400\t53%\t0.4260\n",
      "121m 44s (- 103m 42s)\t21600\t54%\t0.3985\n",
      "122m 51s (- 102m 34s)\t21800\t54%\t0.3711\n",
      "123m 59s (- 101m 26s)\t22000\t55%\t0.3838\n",
      "125m 6s (- 100m 18s)\t22200\t55%\t0.3905\n",
      "126m 15s (- 99m 11s)\t22400\t56%\t0.3832\n",
      "127m 23s (- 98m 4s)\t22600\t56%\t0.3770\n",
      "128m 30s (- 96m 56s)\t22800\t56%\t0.3937\n",
      "129m 37s (- 95m 48s)\t23000\t57%\t0.3806\n",
      "130m 46s (- 94m 41s)\t23200\t57%\t0.3952\n",
      "131m 54s (- 93m 34s)\t23400\t58%\t0.3772\n",
      "133m 2s (- 92m 27s)\t23600\t59%\t0.3793\n",
      "134m 11s (- 91m 20s)\t23800\t59%\t0.3799\n",
      "135m 18s (- 90m 12s)\t24000\t60%\t0.3612\n",
      "136m 26s (- 89m 5s)\t24200\t60%\t0.3832\n",
      "137m 35s (- 87m 58s)\t24400\t61%\t0.3742\n",
      "138m 43s (- 86m 50s)\t24600\t61%\t0.3634\n",
      "139m 51s (- 85m 43s)\t24800\t62%\t0.3882\n",
      "140m 59s (- 84m 35s)\t25000\t62%\t0.3524\n",
      "142m 7s (- 83m 28s)\t25200\t63%\t0.3580\n",
      "143m 16s (- 82m 21s)\t25400\t63%\t0.3623\n",
      "144m 24s (- 81m 13s)\t25600\t64%\t0.3675\n",
      "145m 32s (- 80m 6s)\t25800\t64%\t0.3619\n",
      "146m 40s (- 78m 58s)\t26000\t65%\t0.3689\n",
      "147m 48s (- 77m 51s)\t26200\t65%\t0.3780\n",
      "148m 55s (- 76m 43s)\t26400\t66%\t0.3679\n",
      "150m 3s (- 75m 35s)\t26600\t66%\t0.3919\n",
      "151m 12s (- 74m 28s)\t26800\t67%\t0.3602\n",
      "152m 19s (- 73m 20s)\t27000\t67%\t0.3684\n",
      "153m 28s (- 72m 13s)\t27200\t68%\t0.3723\n",
      "154m 36s (- 71m 5s)\t27400\t68%\t0.3644\n",
      "155m 44s (- 69m 58s)\t27600\t69%\t0.3556\n",
      "156m 52s (- 68m 50s)\t27800\t69%\t0.3618\n",
      "158m 1s (- 67m 43s)\t28000\t70%\t0.3709\n",
      "159m 10s (- 66m 36s)\t28200\t70%\t0.3723\n",
      "160m 19s (- 65m 28s)\t28400\t71%\t0.3669\n",
      "161m 27s (- 64m 21s)\t28600\t71%\t0.3631\n",
      "162m 35s (- 63m 13s)\t28800\t72%\t0.3749\n",
      "163m 43s (- 62m 6s)\t29000\t72%\t0.3692\n",
      "164m 53s (- 60m 59s)\t29200\t73%\t0.3520\n",
      "166m 1s (- 59m 51s)\t29400\t73%\t0.3807\n",
      "167m 10s (- 58m 44s)\t29600\t74%\t0.3738\n",
      "168m 18s (- 57m 36s)\t29800\t74%\t0.3724\n",
      "169m 26s (- 56m 28s)\t30000\t75%\t0.3630\n",
      "LEARNING RATE: 0.000100\n",
      "170m 34s (- 55m 21s)\t30200\t75%\t0.3651\n",
      "171m 44s (- 54m 14s)\t30400\t76%\t0.3627\n",
      "173m 0s (- 53m 8s)\t30600\t76%\t0.3579\n",
      "174m 9s (- 52m 1s)\t30800\t77%\t0.3571\n",
      "175m 17s (- 50m 53s)\t31000\t77%\t0.3608\n",
      "176m 25s (- 49m 45s)\t31200\t78%\t0.3491\n",
      "177m 34s (- 48m 38s)\t31400\t78%\t0.3579\n",
      "178m 43s (- 47m 30s)\t31600\t79%\t0.3544\n",
      "179m 52s (- 46m 22s)\t31800\t79%\t0.3562\n",
      "181m 0s (- 45m 15s)\t32000\t80%\t0.3510\n",
      "182m 9s (- 44m 7s)\t32200\t80%\t0.3712\n",
      "183m 17s (- 42m 59s)\t32400\t81%\t0.3501\n",
      "184m 26s (- 41m 52s)\t32600\t81%\t0.3508\n",
      "185m 34s (- 40m 44s)\t32800\t82%\t0.3422\n",
      "186m 43s (- 39m 36s)\t33000\t82%\t0.3548\n",
      "187m 52s (- 38m 28s)\t33200\t83%\t0.3546\n",
      "189m 1s (- 37m 21s)\t33400\t83%\t0.3514\n",
      "190m 9s (- 36m 13s)\t33600\t84%\t0.3487\n",
      "191m 18s (- 35m 5s)\t33800\t84%\t0.3509\n",
      "192m 27s (- 33m 57s)\t34000\t85%\t0.3564\n",
      "193m 35s (- 32m 49s)\t34200\t85%\t0.3550\n",
      "194m 44s (- 31m 42s)\t34400\t86%\t0.3480\n",
      "195m 53s (- 30m 34s)\t34600\t86%\t0.3573\n",
      "197m 2s (- 29m 26s)\t34800\t87%\t0.3500\n",
      "198m 10s (- 28m 18s)\t35000\t87%\t0.3520\n",
      "LEARNING RATE: 0.000030\n",
      "199m 19s (- 27m 10s)\t35200\t88%\t0.3526\n",
      "200m 27s (- 26m 2s)\t35400\t88%\t0.3479\n",
      "201m 36s (- 24m 55s)\t35600\t89%\t0.3517\n",
      "202m 45s (- 23m 47s)\t35800\t89%\t0.3639\n",
      "203m 54s (- 22m 39s)\t36000\t90%\t0.3591\n",
      "205m 3s (- 21m 31s)\t36200\t90%\t0.3541\n",
      "206m 11s (- 20m 23s)\t36400\t91%\t0.3512\n",
      "207m 20s (- 19m 15s)\t36600\t91%\t0.3528\n",
      "208m 28s (- 18m 7s)\t36800\t92%\t0.3640\n",
      "209m 37s (- 16m 59s)\t37000\t92%\t0.3603\n",
      "210m 47s (- 15m 51s)\t37200\t93%\t0.3469\n",
      "211m 56s (- 14m 44s)\t37400\t93%\t0.3658\n",
      "213m 5s (- 13m 36s)\t37600\t94%\t0.3641\n",
      "214m 14s (- 12m 28s)\t37800\t94%\t0.3579\n",
      "215m 24s (- 11m 20s)\t38000\t95%\t0.3634\n",
      "216m 33s (- 10m 12s)\t38200\t95%\t0.3596\n",
      "217m 42s (- 9m 4s)\t38400\t96%\t0.3629\n",
      "218m 52s (- 7m 56s)\t38600\t96%\t0.3603\n",
      "220m 1s (- 6m 48s)\t38800\t97%\t0.3668\n",
      "221m 10s (- 5m 40s)\t39000\t97%\t0.3568\n",
      "222m 19s (- 4m 32s)\t39200\t98%\t0.3652\n",
      "223m 29s (- 3m 24s)\t39400\t98%\t0.3624\n",
      "224m 38s (- 2m 16s)\t39600\t99%\t0.3692\n",
      "225m 47s (- 1m 8s)\t39800\t99%\t0.3635\n"
     ]
    }
   ],
   "source": [
    "n_layers = 1\n",
    "hidden_size = 128\n",
    "graduated_epochs_list = []\n",
    "graduated_times_list = []\n",
    "graduated_avg_loss_list = []\n",
    "\n",
    "encoder = EncoderRNN(art_emb_t, hidden_size, n_layers).cuda()\n",
    "decoder = AttnDecoderRNN(hdln_emb_t, hidden_size, n_layers).cuda()\n",
    "fullgraduated_trainEpochs(encoder, decoder, 40000, time.time(), graduated_times_list, graduated_avg_loss_list, \\\n",
    "                          graduated_epochs_list)"
   ]
  },
  {
   "cell_type": "code",
   "execution_count": 96,
   "metadata": {},
   "outputs": [
    {
     "name": "stderr",
     "output_type": "stream",
     "text": [
      "/home/psxca1/anaconda3/lib/python3.6/site-packages/torch/serialization.py:147: UserWarning: Couldn't retrieve source code for container of type EncoderRNN. It won't be checked for correctness upon loading.\n",
      "  \"type \" + obj.__name__ + \". It won't be checked \"\n",
      "/home/psxca1/anaconda3/lib/python3.6/site-packages/torch/serialization.py:147: UserWarning: Couldn't retrieve source code for container of type AttnDecoderRNN. It won't be checked for correctness upon loading.\n",
      "  \"type \" + obj.__name__ + \". It won't be checked \"\n"
     ]
    }
   ],
   "source": [
    "torch.save(encoder, enc_dec_path+'graduated_encoder.pth')\n",
    "torch.save(decoder, enc_dec_path+'graduated_decoder.pth')"
   ]
  },
  {
   "cell_type": "code",
   "execution_count": 97,
   "metadata": {
    "collapsed": true
   },
   "outputs": [],
   "source": [
    "with open(list_path+'graduated_epochs_list.pkl', 'wb') as f:\n",
    "    pickle.dump(graduated_epochs_list, f)\n",
    "with open(list_path+'graduated_times_list.pkl', 'wb') as f:\n",
    "    pickle.dump(graduated_times_list, f)\n",
    "with open(list_path+'graduated_avg_loss_list.pkl', 'wb') as f:\n",
    "    pickle.dump(graduated_avg_loss_list, f)"
   ]
  },
  {
   "cell_type": "code",
   "execution_count": 98,
   "metadata": {},
   "outputs": [
    {
     "data": {
      "image/png": "[encoded data removed]",
      "text/plain": [
       "<matplotlib.figure.Figure at 0x7f67f3bbcc88>"
      ]
     },
     "metadata": {},
     "output_type": "display_data"
    }
   ],
   "source": [
    "plt.plot(graduated_times_list, graduated_avg_loss_list)\n",
    "plt.xlabel('Training Time (Minutes)')\n",
    "plt.ylabel('Average Loss')\n",
    "plt.title('Graduated Teacher Forcing Loss over Time')\n",
    "plt.savefig(plot_path+'grad.png')\n",
    "plt.show()"
   ]
  },
  {
   "cell_type": "code",
   "execution_count": 99,
   "metadata": {
    "collapsed": true
   },
   "outputs": [],
   "source": [
    "test(eval_path+'graduated')"
   ]
  },
  {
   "cell_type": "markdown",
   "metadata": {},
   "source": [
    "## Absolute Teacher Forcing"
   ]
  },
  {
   "cell_type": "code",
   "execution_count": 101,
   "metadata": {
    "scrolled": true
   },
   "outputs": [
    {
     "name": "stdout",
     "output_type": "stream",
     "text": [
      "LEARNING RATE: 0.003000\n",
      "1m 8s   (- 27m 19s)\t200\t4%\t2.6000\n",
      "2m 14s  (- 25m 49s)\t400\t8%\t2.0982\n",
      "3m 21s  (- 24m 34s)\t600\t12%\t1.8854\n",
      "4m 27s  (- 23m 25s)\t800\t16%\t1.7299\n",
      "5m 34s  (- 22m 17s)\t1000\t20%\t1.6063\n",
      "6m 40s  (- 21m 8s)\t1200\t24%\t1.5054\n",
      "7m 46s  (- 19m 58s)\t1400\t28%\t1.4277\n",
      "8m 53s  (- 18m 52s)\t1600\t32%\t1.3450\n",
      "9m 59s  (- 17m 46s)\t1800\t36%\t1.2805\n",
      "11m 5s  (- 16m 38s)\t2000\t40%\t1.2178\n",
      "12m 11s (- 15m 31s)\t2200\t44%\t1.1734\n",
      "13m 18s (- 14m 25s)\t2400\t48%\t1.1246\n",
      "14m 24s (- 13m 17s)\t2600\t52%\t1.0810\n",
      "15m 31s (- 12m 11s)\t2800\t56%\t1.0445\n",
      "16m 37s (- 11m 5s)\t3000\t60%\t1.0031\n",
      "17m 43s (- 9m 58s)\t3200\t64%\t0.9734\n",
      "18m 49s (- 8m 51s)\t3400\t68%\t0.9473\n",
      "19m 55s (- 7m 44s)\t3600\t72%\t0.9170\n",
      "21m 1s  (- 6m 38s)\t3800\t76%\t0.8829\n",
      "22m 6s  (- 5m 31s)\t4000\t80%\t0.8581\n",
      "23m 12s (- 4m 25s)\t4200\t84%\t0.8321\n",
      "24m 16s (- 3m 18s)\t4400\t88%\t0.8095\n",
      "25m 21s (- 2m 12s)\t4600\t92%\t0.7838\n",
      "26m 27s (- 1m 6s)\t4800\t96%\t0.7633\n",
      "LEARNING RATE: 0.003000\n",
      "28m 40s (- 688m 18s)\t200\t4%\t0.7665\n",
      "29m 46s (- 342m 26s)\t400\t8%\t0.7638\n",
      "30m 53s (- 226m 31s)\t600\t12%\t0.7336\n",
      "31m 59s (- 167m 57s)\t800\t16%\t0.7099\n",
      "33m 6s  (- 132m 27s)\t1000\t20%\t0.6851\n",
      "34m 12s (- 108m 20s)\t1200\t24%\t0.6762\n",
      "35m 19s (- 90m 49s)\t1400\t28%\t0.6537\n",
      "36m 25s (- 77m 25s)\t1600\t32%\t0.6317\n",
      "37m 32s (- 66m 44s)\t1800\t36%\t0.6114\n",
      "38m 39s (- 57m 59s)\t2000\t40%\t0.6085\n",
      "39m 44s (- 50m 35s)\t2200\t44%\t0.5944\n",
      "40m 51s (- 44m 16s)\t2400\t48%\t0.5807\n",
      "41m 58s (- 38m 44s)\t2600\t52%\t0.5707\n",
      "43m 5s  (- 33m 51s)\t2800\t56%\t0.5587\n",
      "44m 12s (- 29m 28s)\t3000\t60%\t0.5499\n",
      "45m 17s (- 25m 28s)\t3200\t64%\t0.5365\n",
      "46m 24s (- 21m 50s)\t3400\t68%\t0.5284\n",
      "47m 30s (- 18m 28s)\t3600\t72%\t0.5222\n",
      "48m 36s (- 15m 21s)\t3800\t76%\t0.5077\n",
      "49m 42s (- 12m 25s)\t4000\t80%\t0.5000\n",
      "50m 48s (- 9m 40s)\t4200\t84%\t0.4915\n",
      "51m 54s (- 7m 4s)\t4400\t88%\t0.4799\n",
      "52m 59s (- 4m 36s)\t4600\t92%\t0.4779\n",
      "54m 5s  (- 2m 15s)\t4800\t96%\t0.4635\n",
      "LEARNING RATE: 0.001000\n",
      "56m 18s (- 1351m 19s)\t200\t4%\t0.4307\n",
      "57m 24s (- 660m 15s)\t400\t8%\t0.3921\n",
      "58m 31s (- 429m 10s)\t600\t12%\t0.3713\n",
      "59m 37s (- 313m 3s)\t800\t16%\t0.3575\n",
      "60m 44s (- 242m 57s)\t1000\t20%\t0.3329\n",
      "61m 50s (- 195m 51s)\t1200\t24%\t0.3230\n",
      "62m 56s (- 161m 51s)\t1400\t28%\t0.3098\n",
      "64m 2s  (- 136m 5s)\t1600\t32%\t0.3056\n",
      "65m 8s  (- 115m 48s)\t1800\t36%\t0.2921\n",
      "66m 16s (- 99m 24s)\t2000\t40%\t0.2855\n",
      "67m 21s (- 85m 43s)\t2200\t44%\t0.2772\n",
      "68m 28s (- 74m 10s)\t2400\t48%\t0.2733\n",
      "69m 34s (- 64m 13s)\t2600\t52%\t0.2683\n",
      "70m 41s (- 55m 32s)\t2800\t56%\t0.2571\n",
      "71m 47s (- 47m 51s)\t3000\t60%\t0.2582\n",
      "72m 54s (- 41m 0s)\t3200\t64%\t0.2537\n",
      "74m 0s  (- 34m 49s)\t3400\t68%\t0.2451\n",
      "75m 8s  (- 29m 13s)\t3600\t72%\t0.2428\n",
      "76m 14s (- 24m 4s)\t3800\t76%\t0.2370\n",
      "77m 20s (- 19m 20s)\t4000\t80%\t0.2353\n",
      "78m 27s (- 14m 56s)\t4200\t84%\t0.2286\n",
      "79m 34s (- 10m 51s)\t4400\t88%\t0.2285\n",
      "80m 40s (- 7m 0s)\t4600\t92%\t0.2243\n",
      "81m 46s (- 3m 24s)\t4800\t96%\t0.2200\n",
      "LEARNING RATE: 0.001000\n",
      "83m 59s (- 2015m 50s)\t200\t4%\t0.2192\n",
      "85m 6s  (- 978m 47s)\t400\t8%\t0.2152\n",
      "86m 13s (- 632m 17s)\t600\t12%\t0.2142\n",
      "87m 20s (- 458m 30s)\t800\t16%\t0.2104\n",
      "88m 26s (- 353m 46s)\t1000\t20%\t0.2077\n",
      "89m 32s (- 283m 31s)\t1200\t24%\t0.2068\n",
      "90m 38s (- 233m 5s)\t1400\t28%\t0.2009\n",
      "91m 45s (- 194m 59s)\t1600\t32%\t0.1989\n",
      "92m 52s (- 165m 7s)\t1800\t36%\t0.1962\n",
      "93m 59s (- 140m 59s)\t2000\t40%\t0.1932\n",
      "95m 5s  (- 121m 1s)\t2200\t44%\t0.1886\n",
      "96m 12s (- 104m 13s)\t2400\t48%\t0.1877\n",
      "97m 18s (- 89m 49s)\t2600\t52%\t0.1877\n",
      "98m 25s (- 77m 20s)\t2800\t56%\t0.1851\n",
      "99m 32s (- 66m 21s)\t3000\t60%\t0.1784\n",
      "100m 38s (- 56m 36s)\t3200\t64%\t0.1791\n",
      "101m 43s (- 47m 52s)\t3400\t68%\t0.1766\n",
      "102m 50s (- 39m 59s)\t3600\t72%\t0.1748\n",
      "103m 56s (- 32m 49s)\t3800\t76%\t0.1745\n",
      "105m 3s (- 26m 15s)\t4000\t80%\t0.1716\n",
      "106m 9s (- 20m 13s)\t4200\t84%\t0.1693\n",
      "107m 15s (- 14m 37s)\t4400\t88%\t0.1686\n",
      "108m 20s (- 9m 25s)\t4600\t92%\t0.1636\n",
      "109m 27s (- 4m 33s)\t4800\t96%\t0.1632\n",
      "LEARNING RATE: 0.000300\n",
      "111m 40s (- 2680m 6s)\t200\t4%\t0.1573\n",
      "112m 47s (- 1297m 0s)\t400\t8%\t0.1499\n",
      "113m 53s (- 835m 13s)\t600\t12%\t0.1411\n",
      "114m 59s (- 603m 42s)\t800\t16%\t0.1355\n",
      "116m 5s (- 464m 22s)\t1000\t20%\t0.1337\n",
      "117m 12s (- 371m 8s)\t1200\t24%\t0.1324\n",
      "118m 18s (- 304m 13s)\t1400\t28%\t0.1280\n",
      "119m 24s (- 253m 44s)\t1600\t32%\t0.1265\n",
      "120m 30s (- 214m 13s)\t1800\t36%\t0.1266\n",
      "121m 36s (- 182m 24s)\t2000\t40%\t0.1272\n",
      "122m 43s (- 156m 11s)\t2200\t44%\t0.1230\n",
      "123m 49s (- 134m 8s)\t2400\t48%\t0.1215\n",
      "124m 54s (- 115m 18s)\t2600\t52%\t0.1206\n",
      "126m 0s (- 99m 0s)\t2800\t56%\t0.1169\n",
      "127m 7s (- 84m 44s)\t3000\t60%\t0.1187\n",
      "128m 13s (- 72m 7s)\t3200\t64%\t0.1161\n",
      "129m 20s (- 60m 52s)\t3400\t68%\t0.1163\n",
      "130m 27s (- 50m 43s)\t3600\t72%\t0.1156\n",
      "131m 33s (- 41m 32s)\t3800\t76%\t0.1139\n",
      "132m 38s (- 33m 9s)\t4000\t80%\t0.1106\n",
      "133m 44s (- 25m 28s)\t4200\t84%\t0.1088\n",
      "134m 51s (- 18m 23s)\t4400\t88%\t0.1110\n",
      "135m 56s (- 11m 49s)\t4600\t92%\t0.1089\n",
      "137m 3s (- 5m 42s)\t4800\t96%\t0.1095\n",
      "LEARNING RATE: 0.000300\n",
      "139m 16s (- 3342m 28s)\t200\t4%\t0.1093\n",
      "140m 22s (- 1614m 21s)\t400\t8%\t0.1079\n",
      "141m 29s (- 1037m 33s)\t600\t12%\t0.1085\n",
      "142m 35s (- 748m 36s)\t800\t16%\t0.1062\n",
      "143m 42s (- 574m 48s)\t1000\t20%\t0.1061\n",
      "144m 47s (- 458m 31s)\t1200\t24%\t0.1049\n",
      "145m 54s (- 375m 10s)\t1400\t28%\t0.1049\n",
      "147m 0s (- 312m 22s)\t1600\t32%\t0.1049\n",
      "148m 6s (- 263m 19s)\t1800\t36%\t0.1038\n",
      "149m 13s (- 223m 49s)\t2000\t40%\t0.1027\n",
      "150m 19s (- 191m 19s)\t2200\t44%\t0.1035\n",
      "151m 26s (- 164m 3s)\t2400\t48%\t0.1016\n",
      "152m 32s (- 140m 48s)\t2600\t52%\t0.1011\n",
      "153m 39s (- 120m 43s)\t2800\t56%\t0.0996\n",
      "154m 45s (- 103m 10s)\t3000\t60%\t0.0988\n",
      "155m 50s (- 87m 39s)\t3200\t64%\t0.0971\n",
      "156m 56s (- 73m 51s)\t3400\t68%\t0.0980\n",
      "158m 3s (- 61m 28s)\t3600\t72%\t0.0966\n",
      "159m 9s (- 50m 15s)\t3800\t76%\t0.0964\n",
      "160m 16s (- 40m 4s)\t4000\t80%\t0.0961\n",
      "161m 22s (- 30m 44s)\t4200\t84%\t0.0958\n",
      "162m 29s (- 22m 9s)\t4400\t88%\t0.0958\n",
      "163m 35s (- 14m 13s)\t4600\t92%\t0.0936\n",
      "164m 40s (- 6m 51s)\t4800\t96%\t0.0942\n",
      "LEARNING RATE: 0.000100\n",
      "166m 55s (- 4006m 5s)\t200\t4%\t0.0937\n",
      "168m 1s (- 1932m 22s)\t400\t8%\t0.0908\n",
      "169m 8s (- 1240m 21s)\t600\t12%\t0.0905\n",
      "170m 14s (- 893m 46s)\t800\t16%\t0.0885\n",
      "171m 21s (- 685m 26s)\t1000\t20%\t0.0884\n",
      "172m 28s (- 546m 9s)\t1200\t24%\t0.0889\n",
      "173m 34s (- 446m 19s)\t1400\t28%\t0.0869\n",
      "174m 41s (- 371m 12s)\t1600\t32%\t0.0860\n",
      "175m 48s (- 312m 32s)\t1800\t36%\t0.0877\n",
      "176m 54s (- 265m 21s)\t2000\t40%\t0.0862\n",
      "178m 1s (- 226m 34s)\t2200\t44%\t0.0853\n",
      "179m 6s (- 194m 2s)\t2400\t48%\t0.0875\n",
      "180m 13s (- 166m 21s)\t2600\t52%\t0.0875\n",
      "181m 19s (- 142m 28s)\t2800\t56%\t0.0855\n",
      "182m 26s (- 121m 37s)\t3000\t60%\t0.0863\n",
      "183m 36s (- 103m 16s)\t3200\t64%\t0.0832\n",
      "184m 51s (- 86m 59s)\t3400\t68%\t0.0864\n",
      "185m 58s (- 72m 19s)\t3600\t72%\t0.0842\n",
      "187m 3s (- 59m 4s)\t3800\t76%\t0.0846\n",
      "188m 10s (- 47m 2s)\t4000\t80%\t0.0835\n",
      "189m 16s (- 36m 3s)\t4200\t84%\t0.0836\n",
      "190m 23s (- 25m 57s)\t4400\t88%\t0.0846\n",
      "191m 29s (- 16m 39s)\t4600\t92%\t0.0844\n",
      "192m 36s (- 8m 1s)\t4800\t96%\t0.0817\n",
      "LEARNING RATE: 0.000030\n",
      "194m 47s (- 4675m 9s)\t200\t4%\t0.0845\n",
      "195m 54s (- 2252m 58s)\t400\t8%\t0.0823\n",
      "197m 0s (- 1444m 43s)\t600\t12%\t0.0823\n",
      "198m 6s (- 1040m 1s)\t800\t16%\t0.0834\n",
      "199m 12s (- 796m 51s)\t1000\t20%\t0.0812\n",
      "200m 19s (- 634m 20s)\t1200\t24%\t0.0818\n",
      "201m 25s (- 517m 56s)\t1400\t28%\t0.0816\n",
      "202m 32s (- 430m 23s)\t1600\t32%\t0.0825\n",
      "203m 38s (- 362m 1s)\t1800\t36%\t0.0788\n",
      "204m 44s (- 307m 7s)\t2000\t40%\t0.0832\n",
      "205m 50s (- 261m 58s)\t2200\t44%\t0.0808\n",
      "206m 56s (- 224m 11s)\t2400\t48%\t0.0822\n",
      "208m 2s (- 192m 2s)\t2600\t52%\t0.0796\n",
      "209m 8s (- 164m 19s)\t2800\t56%\t0.0828\n",
      "210m 15s (- 140m 10s)\t3000\t60%\t0.0810\n",
      "211m 22s (- 118m 53s)\t3200\t64%\t0.0794\n",
      "212m 27s (- 99m 59s)\t3400\t68%\t0.0801\n",
      "213m 33s (- 83m 3s)\t3600\t72%\t0.0809\n",
      "214m 40s (- 67m 47s)\t3800\t76%\t0.0804\n",
      "215m 47s (- 53m 56s)\t4000\t80%\t0.0803\n",
      "216m 53s (- 41m 18s)\t4200\t84%\t0.0780\n",
      "218m 0s (- 29m 43s)\t4400\t88%\t0.0782\n",
      "219m 6s (- 19m 3s)\t4600\t92%\t0.0785\n",
      "220m 11s (- 9m 10s)\t4800\t96%\t0.0800\n"
     ]
    }
   ],
   "source": [
    "n_layers = 1\n",
    "hidden_size = 128\n",
    "full_epochs_list = []\n",
    "full_times_list = []\n",
    "full_avg_loss_list = []\n",
    "\n",
    "encoder = EncoderRNN(art_emb_t, hidden_size, n_layers).cuda()\n",
    "decoder = AttnDecoderRNN(hdln_emb_t, hidden_size, n_layers).cuda()\n",
    "multi_train(encoder, decoder, full_times_list, full_avg_loss_list, full_epochs_list, 'full')"
   ]
  },
  {
   "cell_type": "code",
   "execution_count": 102,
   "metadata": {},
   "outputs": [
    {
     "name": "stderr",
     "output_type": "stream",
     "text": [
      "/home/psxca1/anaconda3/lib/python3.6/site-packages/torch/serialization.py:147: UserWarning: Couldn't retrieve source code for container of type EncoderRNN. It won't be checked for correctness upon loading.\n",
      "  \"type \" + obj.__name__ + \". It won't be checked \"\n",
      "/home/psxca1/anaconda3/lib/python3.6/site-packages/torch/serialization.py:147: UserWarning: Couldn't retrieve source code for container of type AttnDecoderRNN. It won't be checked for correctness upon loading.\n",
      "  \"type \" + obj.__name__ + \". It won't be checked \"\n"
     ]
    }
   ],
   "source": [
    "torch.save(encoder, enc_dec_path+'full_tf_encoder.pth')\n",
    "torch.save(decoder, enc_dec_path+'full_tf_decoder.pth')"
   ]
  },
  {
   "cell_type": "code",
   "execution_count": 103,
   "metadata": {
    "collapsed": true
   },
   "outputs": [],
   "source": [
    "with open(list_path+'full_epochs_list.pkl', 'wb') as f:\n",
    "    pickle.dump(full_epochs_list, f)\n",
    "with open(list_path+'full_times_list.pkl', 'wb') as f:\n",
    "    pickle.dump(full_times_list, f)\n",
    "with open(list_path+'full_avg_loss_list.pkl', 'wb') as f:\n",
    "    pickle.dump(full_avg_loss_list, f)"
   ]
  },
  {
   "cell_type": "code",
   "execution_count": 104,
   "metadata": {},
   "outputs": [
    {
     "data": {
      "image/png": "[encoded data removed]",
      "text/plain": [
       "<matplotlib.figure.Figure at 0x7f68034471d0>"
      ]
     },
     "metadata": {},
     "output_type": "display_data"
    }
   ],
   "source": [
    "plt.plot(full_times_list, full_avg_loss_list)\n",
    "plt.xlabel('Training Time (Minutes)')\n",
    "plt.ylabel('Average Loss')\n",
    "plt.title('Full Teacher Forcing Loss over Time')\n",
    "plt.savefig(plot_path+'full_tf.png')\n",
    "plt.show()"
   ]
  },
  {
   "cell_type": "code",
   "execution_count": 105,
   "metadata": {
    "collapsed": true
   },
   "outputs": [],
   "source": [
    "test(eval_path+'full_tf')"
   ]
  },
  {
   "cell_type": "markdown",
   "metadata": {},
   "source": [
    "## No Teacher Forcing"
   ]
  },
  {
   "cell_type": "code",
   "execution_count": 35,
   "metadata": {
    "scrolled": true
   },
   "outputs": [
    {
     "name": "stdout",
     "output_type": "stream",
     "text": [
      "LEARNING RATE: 0.003000\n",
      "1m 9s   (- 27m 53s)\t200\t4%\t2.7357\n",
      "2m 16s  (- 26m 13s)\t400\t8%\t2.3854\n",
      "3m 23s  (- 24m 53s)\t600\t12%\t2.2347\n",
      "4m 30s  (- 23m 39s)\t800\t16%\t2.1376\n",
      "5m 38s  (- 22m 33s)\t1000\t20%\t2.0458\n",
      "6m 46s  (- 21m 27s)\t1200\t24%\t1.9624\n",
      "7m 52s  (- 20m 16s)\t1400\t28%\t1.8985\n",
      "8m 58s  (- 19m 3s)\t1600\t32%\t1.8227\n",
      "10m 2s  (- 17m 51s)\t1800\t36%\t1.7608\n",
      "11m 9s  (- 16m 43s)\t2000\t40%\t1.7077\n",
      "12m 17s (- 15m 38s)\t2200\t44%\t1.6629\n",
      "13m 26s (- 14m 33s)\t2400\t48%\t1.6294\n",
      "14m 35s (- 13m 28s)\t2600\t52%\t1.5873\n",
      "15m 44s (- 12m 22s)\t2800\t56%\t1.5424\n",
      "16m 54s (- 11m 16s)\t3000\t60%\t1.5174\n",
      "18m 2s  (- 10m 9s)\t3200\t64%\t1.4929\n",
      "19m 12s (- 9m 2s)\t3400\t68%\t1.4585\n",
      "20m 22s (- 7m 55s)\t3600\t72%\t1.4384\n",
      "21m 32s (- 6m 48s)\t3800\t76%\t1.3984\n",
      "22m 42s (- 5m 40s)\t4000\t80%\t1.3829\n",
      "23m 53s (- 4m 33s)\t4200\t84%\t1.3588\n",
      "25m 4s  (- 3m 25s)\t4400\t88%\t1.3303\n",
      "26m 14s (- 2m 16s)\t4600\t92%\t1.3160\n",
      "27m 24s (- 1m 8s)\t4800\t96%\t1.3017\n",
      "LEARNING RATE: 0.003000\n",
      "29m 44s (- 713m 56s)\t200\t4%\t1.3075\n",
      "30m 55s (- 355m 34s)\t400\t8%\t1.2749\n",
      "32m 5s  (- 235m 17s)\t600\t12%\t1.2536\n",
      "33m 15s (- 174m 35s)\t800\t16%\t1.2291\n",
      "34m 25s (- 137m 40s)\t1000\t20%\t1.2076\n",
      "35m 34s (- 112m 40s)\t1200\t24%\t1.1914\n",
      "36m 45s (- 94m 30s)\t1400\t28%\t1.1767\n",
      "37m 55s (- 80m 35s)\t1600\t32%\t1.1555\n",
      "39m 5s  (- 69m 30s)\t1800\t36%\t1.1528\n",
      "40m 15s (- 60m 23s)\t2000\t40%\t1.1391\n",
      "41m 26s (- 52m 44s)\t2200\t44%\t1.1150\n",
      "42m 36s (- 46m 9s)\t2400\t48%\t1.1085\n",
      "43m 47s (- 40m 25s)\t2600\t52%\t1.0975\n",
      "44m 56s (- 35m 18s)\t2800\t56%\t1.0907\n",
      "46m 6s  (- 30m 44s)\t3000\t60%\t1.0760\n",
      "47m 17s (- 26m 36s)\t3200\t64%\t1.0697\n",
      "48m 28s (- 22m 48s)\t3400\t68%\t1.0564\n",
      "49m 37s (- 19m 18s)\t3600\t72%\t1.0404\n",
      "50m 48s (- 16m 2s)\t3800\t76%\t1.0349\n",
      "51m 58s (- 12m 59s)\t4000\t80%\t1.0169\n",
      "53m 8s  (- 10m 7s)\t4200\t84%\t1.0153\n",
      "54m 18s (- 7m 24s)\t4400\t88%\t1.0049\n",
      "55m 28s (- 4m 49s)\t4600\t92%\t1.0053\n",
      "56m 38s (- 2m 21s)\t4800\t96%\t0.9820\n",
      "LEARNING RATE: 0.001000\n",
      "58m 58s (- 1415m 33s)\t200\t4%\t0.9463\n",
      "60m 8s  (- 691m 38s)\t400\t8%\t0.8940\n",
      "61m 18s (- 449m 34s)\t600\t12%\t0.8641\n",
      "62m 29s (- 328m 2s)\t800\t16%\t0.8416\n",
      "63m 39s (- 254m 38s)\t1000\t20%\t0.8188\n",
      "64m 50s (- 205m 18s)\t1200\t24%\t0.8046\n",
      "66m 0s  (- 169m 43s)\t1400\t28%\t0.7832\n",
      "67m 9s  (- 142m 43s)\t1600\t32%\t0.7720\n",
      "68m 20s (- 121m 29s)\t1800\t36%\t0.7591\n",
      "69m 30s (- 104m 15s)\t2000\t40%\t0.7430\n",
      "70m 41s (- 89m 57s)\t2200\t44%\t0.7347\n",
      "71m 51s (- 77m 51s)\t2400\t48%\t0.7221\n",
      "73m 1s  (- 67m 24s)\t2600\t52%\t0.7208\n",
      "74m 12s (- 58m 18s)\t2800\t56%\t0.7103\n",
      "75m 21s (- 50m 14s)\t3000\t60%\t0.7032\n",
      "76m 31s (- 43m 2s)\t3200\t64%\t0.6922\n",
      "77m 42s (- 36m 33s)\t3400\t68%\t0.6847\n",
      "78m 52s (- 30m 40s)\t3600\t72%\t0.6769\n",
      "80m 2s  (- 25m 16s)\t3800\t76%\t0.6755\n",
      "81m 12s (- 20m 18s)\t4000\t80%\t0.6711\n",
      "82m 22s (- 15m 41s)\t4200\t84%\t0.6647\n",
      "83m 32s (- 11m 23s)\t4400\t88%\t0.6677\n",
      "84m 42s (- 7m 21s)\t4600\t92%\t0.6518\n",
      "85m 52s (- 3m 34s)\t4800\t96%\t0.6479\n",
      "LEARNING RATE: 0.001000\n",
      "88m 12s (- 2116m 55s)\t200\t4%\t0.6441\n",
      "89m 22s (- 1027m 52s)\t400\t8%\t0.6505\n",
      "90m 32s (- 664m 1s)\t600\t12%\t0.6488\n",
      "91m 43s (- 481m 32s)\t800\t16%\t0.6437\n",
      "92m 53s (- 371m 32s)\t1000\t20%\t0.6376\n",
      "94m 3s  (- 297m 50s)\t1200\t24%\t0.6344\n",
      "95m 13s (- 244m 51s)\t1400\t28%\t0.6271\n",
      "96m 23s (- 204m 49s)\t1600\t32%\t0.6143\n",
      "97m 33s (- 173m 25s)\t1800\t36%\t0.6092\n",
      "98m 43s (- 148m 5s)\t2000\t40%\t0.6095\n",
      "99m 53s (- 127m 7s)\t2200\t44%\t0.6004\n",
      "101m 3s (- 109m 28s)\t2400\t48%\t0.5944\n",
      "102m 13s (- 94m 21s)\t2600\t52%\t0.5980\n",
      "103m 23s (- 81m 14s)\t2800\t56%\t0.5849\n",
      "104m 33s (- 69m 42s)\t3000\t60%\t0.5859\n",
      "105m 43s (- 59m 28s)\t3200\t64%\t0.5861\n",
      "106m 54s (- 50m 18s)\t3400\t68%\t0.5742\n",
      "108m 3s (- 42m 1s)\t3600\t72%\t0.5760\n",
      "109m 14s (- 34m 29s)\t3800\t76%\t0.5647\n",
      "110m 24s (- 27m 36s)\t4000\t80%\t0.5605\n",
      "111m 34s (- 21m 15s)\t4200\t84%\t0.5572\n",
      "112m 43s (- 15m 22s)\t4400\t88%\t0.5602\n",
      "113m 53s (- 9m 54s)\t4600\t92%\t0.5546\n",
      "115m 3s (- 4m 47s)\t4800\t96%\t0.5467\n",
      "LEARNING RATE: 0.000300\n",
      "117m 24s (- 2817m 53s)\t200\t4%\t0.5351\n",
      "118m 35s (- 1363m 44s)\t400\t8%\t0.5155\n",
      "119m 45s (- 878m 15s)\t600\t12%\t0.5099\n",
      "120m 55s (- 634m 52s)\t800\t16%\t0.4985\n",
      "122m 5s (- 488m 22s)\t1000\t20%\t0.4881\n",
      "123m 15s (- 390m 18s)\t1200\t24%\t0.4786\n",
      "124m 25s (- 319m 57s)\t1400\t28%\t0.4791\n",
      "125m 35s (- 266m 53s)\t1600\t32%\t0.4671\n",
      "126m 47s (- 225m 23s)\t1800\t36%\t0.4647\n",
      "127m 57s (- 191m 56s)\t2000\t40%\t0.4556\n",
      "129m 8s (- 164m 21s)\t2200\t44%\t0.4570\n",
      "130m 19s (- 141m 10s)\t2400\t48%\t0.4491\n",
      "131m 29s (- 121m 22s)\t2600\t52%\t0.4468\n",
      "132m 41s (- 104m 15s)\t2800\t56%\t0.4507\n",
      "133m 51s (- 89m 14s)\t3000\t60%\t0.4451\n",
      "135m 2s (- 75m 57s)\t3200\t64%\t0.4360\n",
      "136m 13s (- 64m 6s)\t3400\t68%\t0.4352\n",
      "137m 24s (- 53m 26s)\t3600\t72%\t0.4351\n",
      "138m 34s (- 43m 45s)\t3800\t76%\t0.4284\n",
      "139m 45s (- 34m 56s)\t4000\t80%\t0.4262\n",
      "140m 55s (- 26m 50s)\t4200\t84%\t0.4235\n",
      "142m 6s (- 19m 22s)\t4400\t88%\t0.4294\n",
      "143m 16s (- 12m 27s)\t4600\t92%\t0.4233\n",
      "144m 26s (- 6m 1s)\t4800\t96%\t0.4161\n",
      "LEARNING RATE: 0.000300\n",
      "146m 47s (- 3522m 52s)\t200\t4%\t0.4198\n",
      "147m 57s (- 1701m 30s)\t400\t8%\t0.4190\n",
      "149m 7s (- 1093m 34s)\t600\t12%\t0.4199\n",
      "150m 17s (- 789m 4s)\t800\t16%\t0.4119\n",
      "151m 27s (- 605m 50s)\t1000\t20%\t0.4109\n",
      "152m 37s (- 483m 18s)\t1200\t24%\t0.4132\n",
      "153m 47s (- 395m 27s)\t1400\t28%\t0.4067\n",
      "154m 57s (- 329m 16s)\t1600\t32%\t0.4047\n",
      "156m 7s (- 277m 33s)\t1800\t36%\t0.4104\n",
      "157m 17s (- 235m 56s)\t2000\t40%\t0.4027\n",
      "158m 27s (- 201m 39s)\t2200\t44%\t0.4035\n",
      "159m 37s (- 172m 55s)\t2400\t48%\t0.4015\n",
      "160m 47s (- 148m 25s)\t2600\t52%\t0.3953\n",
      "161m 57s (- 127m 14s)\t2800\t56%\t0.3959\n",
      "163m 7s (- 108m 44s)\t3000\t60%\t0.3916\n",
      "164m 17s (- 92m 24s)\t3200\t64%\t0.3883\n",
      "165m 27s (- 77m 51s)\t3400\t68%\t0.3923\n",
      "166m 37s (- 64m 48s)\t3600\t72%\t0.3893\n",
      "167m 47s (- 52m 59s)\t3800\t76%\t0.3920\n",
      "168m 57s (- 42m 14s)\t4000\t80%\t0.3878\n",
      "170m 7s (- 32m 24s)\t4200\t84%\t0.3875\n",
      "171m 18s (- 23m 21s)\t4400\t88%\t0.3788\n",
      "172m 28s (- 14m 59s)\t4600\t92%\t0.3785\n",
      "173m 38s (- 7m 14s)\t4800\t96%\t0.3759\n",
      "LEARNING RATE: 0.000100\n",
      "175m 58s (- 4223m 29s)\t200\t4%\t0.3698\n",
      "177m 9s (- 2037m 17s)\t400\t8%\t0.3759\n",
      "178m 19s (- 1307m 39s)\t600\t12%\t0.3680\n",
      "179m 29s (- 942m 19s)\t800\t16%\t0.3678\n",
      "180m 39s (- 722m 39s)\t1000\t20%\t0.3652\n",
      "181m 49s (- 575m 45s)\t1200\t24%\t0.3661\n",
      "182m 58s (- 470m 31s)\t1400\t28%\t0.3557\n",
      "184m 8s (- 391m 18s)\t1600\t32%\t0.3587\n",
      "185m 18s (- 329m 26s)\t1800\t36%\t0.3503\n",
      "186m 30s (- 279m 45s)\t2000\t40%\t0.3552\n",
      "187m 42s (- 238m 53s)\t2200\t44%\t0.3542\n",
      "188m 53s (- 204m 38s)\t2400\t48%\t0.3521\n",
      "190m 3s (- 175m 26s)\t2600\t52%\t0.3497\n",
      "191m 14s (- 150m 15s)\t2800\t56%\t0.3463\n",
      "192m 24s (- 128m 16s)\t3000\t60%\t0.3471\n",
      "193m 34s (- 108m 53s)\t3200\t64%\t0.3534\n",
      "194m 44s (- 91m 38s)\t3400\t68%\t0.3452\n",
      "195m 54s (- 76m 11s)\t3600\t72%\t0.3498\n",
      "197m 4s (- 62m 14s)\t3800\t76%\t0.3478\n",
      "198m 14s (- 49m 33s)\t4000\t80%\t0.3452\n",
      "199m 25s (- 37m 59s)\t4200\t84%\t0.3477\n",
      "200m 35s (- 27m 21s)\t4400\t88%\t0.3458\n",
      "201m 44s (- 17m 32s)\t4600\t92%\t0.3391\n",
      "202m 54s (- 8m 27s)\t4800\t96%\t0.3400\n",
      "LEARNING RATE: 0.000030\n",
      "205m 14s (- 4925m 59s)\t200\t4%\t0.3400\n",
      "206m 25s (- 2373m 51s)\t400\t8%\t0.3371\n",
      "207m 35s (- 1522m 17s)\t600\t12%\t0.3396\n",
      "208m 45s (- 1095m 56s)\t800\t16%\t0.3291\n",
      "209m 55s (- 839m 40s)\t1000\t20%\t0.3354\n",
      "211m 4s (- 668m 25s)\t1200\t24%\t0.3388\n",
      "212m 15s (- 545m 48s)\t1400\t28%\t0.3357\n",
      "213m 25s (- 453m 32s)\t1600\t32%\t0.3349\n",
      "214m 35s (- 381m 30s)\t1800\t36%\t0.3342\n",
      "215m 46s (- 323m 39s)\t2000\t40%\t0.3361\n",
      "216m 56s (- 276m 6s)\t2200\t44%\t0.3321\n",
      "218m 6s (- 236m 17s)\t2400\t48%\t0.3318\n",
      "219m 16s (- 202m 24s)\t2600\t52%\t0.3344\n",
      "220m 27s (- 173m 12s)\t2800\t56%\t0.3374\n",
      "221m 37s (- 147m 44s)\t3000\t60%\t0.3318\n",
      "222m 47s (- 125m 18s)\t3200\t64%\t0.3329\n",
      "223m 57s (- 105m 23s)\t3400\t68%\t0.3364\n",
      "225m 6s (- 87m 32s)\t3600\t72%\t0.3342\n",
      "226m 16s (- 71m 27s)\t3800\t76%\t0.3376\n",
      "227m 26s (- 56m 51s)\t4000\t80%\t0.3337\n",
      "228m 36s (- 43m 32s)\t4200\t84%\t0.3314\n",
      "229m 44s (- 31m 19s)\t4400\t88%\t0.3334\n",
      "230m 50s (- 20m 4s)\t4600\t92%\t0.3316\n",
      "231m 57s (- 9m 39s)\t4800\t96%\t0.3306\n"
     ]
    }
   ],
   "source": [
    "n_layers = 1\n",
    "hidden_size = 128\n",
    "none_epochs_list = []\n",
    "none_times_list = []\n",
    "none_avg_loss_list = []\n",
    "\n",
    "encoder = EncoderRNN(art_emb_t, hidden_size, n_layers).cuda()\n",
    "decoder = AttnDecoderRNN(hdln_emb_t, hidden_size, n_layers).cuda()\n",
    "multi_train(encoder, decoder, none_times_list, none_avg_loss_list, none_epochs_list, 'none')"
   ]
  },
  {
   "cell_type": "code",
   "execution_count": 36,
   "metadata": {},
   "outputs": [
    {
     "name": "stderr",
     "output_type": "stream",
     "text": [
      "/home/psxca1/anaconda3/lib/python3.6/site-packages/torch/serialization.py:147: UserWarning: Couldn't retrieve source code for container of type EncoderRNN. It won't be checked for correctness upon loading.\n",
      "  \"type \" + obj.__name__ + \". It won't be checked \"\n",
      "/home/psxca1/anaconda3/lib/python3.6/site-packages/torch/serialization.py:147: UserWarning: Couldn't retrieve source code for container of type AttnDecoderRNN. It won't be checked for correctness upon loading.\n",
      "  \"type \" + obj.__name__ + \". It won't be checked \"\n"
     ]
    }
   ],
   "source": [
    "torch.save(encoder, enc_dec_path+'no_tf_encoder.pth')\n",
    "torch.save(decoder, enc_dec_path+'no_tf_decoder.pth')"
   ]
  },
  {
   "cell_type": "code",
   "execution_count": 37,
   "metadata": {
    "collapsed": true
   },
   "outputs": [],
   "source": [
    "with open(list_path+'none_epochs_list.pkl', 'wb') as f:\n",
    "    pickle.dump(none_epochs_list, f)\n",
    "with open(list_path+'none_times_list.pkl', 'wb') as f:\n",
    "    pickle.dump(none_times_list, f)\n",
    "with open(list_path+'none_avg_loss_list.pkl', 'wb') as f:\n",
    "    pickle.dump(none_avg_loss_list, f)"
   ]
  },
  {
   "cell_type": "code",
   "execution_count": null,
   "metadata": {
    "collapsed": true
   },
   "outputs": [],
   "source": [
    "plt.plot(none_times_list, none_avg_loss_list)\n",
    "plt.xlabel('Training Time (Minutes)')\n",
    "plt.ylabel('Average Loss')\n",
    "plt.title('No Teacher Forcing Loss over Time')\n",
    "plt.savefig(plot_path+'no_tf.png')\n",
    "plt.show()"
   ]
  },
  {
   "cell_type": "code",
   "execution_count": 41,
   "metadata": {
    "collapsed": true
   },
   "outputs": [],
   "source": [
    "test(eval_path+'no_tf')"
   ]
  },
  {
   "cell_type": "markdown",
   "metadata": {
    "collapsed": true
   },
   "source": [
    "## 25% TF"
   ]
  },
  {
   "cell_type": "code",
   "execution_count": 55,
   "metadata": {},
   "outputs": [
    {
     "name": "stdout",
     "output_type": "stream",
     "text": [
      "LEARNING RATE: 0.003000\n",
      "1m 11s  (- 28m 32s)\t200\t4%\t2.7340\n",
      "2m 20s  (- 26m 51s)\t400\t8%\t2.3710\n",
      "3m 28s  (- 25m 32s)\t600\t12%\t2.2264\n",
      "4m 37s  (- 24m 17s)\t800\t16%\t2.1342\n",
      "5m 45s  (- 23m 1s)\t1000\t20%\t2.0253\n",
      "6m 54s  (- 21m 52s)\t1200\t24%\t1.9593\n",
      "8m 3s   (- 20m 43s)\t1400\t28%\t1.8742\n",
      "9m 11s  (- 19m 32s)\t1600\t32%\t1.8099\n",
      "10m 20s (- 18m 22s)\t1800\t36%\t1.7694\n",
      "11m 28s (- 17m 12s)\t2000\t40%\t1.7053\n",
      "12m 36s (- 16m 2s)\t2200\t44%\t1.6628\n",
      "13m 44s (- 14m 52s)\t2400\t48%\t1.6285\n",
      "14m 53s (- 13m 44s)\t2600\t52%\t1.5800\n",
      "16m 1s  (- 12m 35s)\t2800\t56%\t1.5622\n",
      "17m 10s (- 11m 26s)\t3000\t60%\t1.5218\n",
      "18m 19s (- 10m 18s)\t3200\t64%\t1.5053\n",
      "19m 28s (- 9m 9s)\t3400\t68%\t1.4778\n",
      "20m 37s (- 8m 1s)\t3600\t72%\t1.4420\n",
      "21m 45s (- 6m 52s)\t3800\t76%\t1.4218\n",
      "22m 54s (- 5m 43s)\t4000\t80%\t1.3884\n",
      "24m 2s  (- 4m 34s)\t4200\t84%\t1.3906\n",
      "25m 11s (- 3m 26s)\t4400\t88%\t1.3452\n",
      "26m 19s (- 2m 17s)\t4600\t92%\t1.3310\n",
      "27m 28s (- 1m 8s)\t4800\t96%\t1.3109\n",
      "LEARNING RATE: 0.003000\n",
      "29m 44s (- 713m 39s)\t200\t4%\t1.3280\n",
      "30m 52s (- 355m 5s)\t400\t8%\t1.3037\n",
      "32m 1s  (- 234m 50s)\t600\t12%\t1.2717\n",
      "33m 9s  (- 174m 4s)\t800\t16%\t1.2552\n",
      "34m 17s (- 137m 9s)\t1000\t20%\t1.2316\n",
      "35m 26s (- 112m 13s)\t1200\t24%\t1.2232\n",
      "36m 34s (- 94m 3s)\t1400\t28%\t1.2076\n",
      "37m 43s (- 80m 9s)\t1600\t32%\t1.1927\n",
      "38m 52s (- 69m 6s)\t1800\t36%\t1.1646\n",
      "40m 0s  (- 60m 0s)\t2000\t40%\t1.1698\n",
      "41m 8s  (- 52m 22s)\t2200\t44%\t1.1635\n",
      "42m 17s (- 45m 48s)\t2400\t48%\t1.1386\n",
      "43m 24s (- 40m 4s)\t2600\t52%\t1.1312\n",
      "44m 31s (- 34m 58s)\t2800\t56%\t1.1335\n",
      "45m 38s (- 30m 25s)\t3000\t60%\t1.1109\n",
      "46m 44s (- 26m 17s)\t3200\t64%\t1.1039\n",
      "47m 51s (- 22m 31s)\t3400\t68%\t1.0933\n",
      "48m 58s (- 19m 2s)\t3600\t72%\t1.0799\n",
      "50m 4s  (- 15m 48s)\t3800\t76%\t1.0835\n",
      "51m 11s (- 12m 47s)\t4000\t80%\t1.0613\n",
      "52m 17s (- 9m 57s)\t4200\t84%\t1.0493\n",
      "53m 25s (- 7m 17s)\t4400\t88%\t1.0409\n",
      "54m 34s (- 4m 44s)\t4600\t92%\t1.0489\n",
      "55m 42s (- 2m 19s)\t4800\t96%\t1.0321\n",
      "LEARNING RATE: 0.001000\n",
      "58m 0s  (- 1392m 10s)\t200\t4%\t0.9794\n",
      "59m 8s  (- 680m 7s)\t400\t8%\t0.9288\n",
      "60m 17s (- 442m 10s)\t600\t12%\t0.9071\n",
      "61m 26s (- 322m 35s)\t800\t16%\t0.8815\n",
      "62m 36s (- 250m 24s)\t1000\t20%\t0.8563\n",
      "63m 44s (- 201m 50s)\t1200\t24%\t0.8325\n",
      "64m 52s (- 166m 50s)\t1400\t28%\t0.8176\n",
      "66m 0s  (- 140m 16s)\t1600\t32%\t0.8033\n",
      "67m 9s  (- 119m 24s)\t1800\t36%\t0.7854\n",
      "68m 18s (- 102m 27s)\t2000\t40%\t0.7761\n",
      "69m 26s (- 88m 23s)\t2200\t44%\t0.7770\n",
      "70m 35s (- 76m 28s)\t2400\t48%\t0.7678\n",
      "71m 43s (- 66m 12s)\t2600\t52%\t0.7568\n",
      "72m 52s (- 57m 15s)\t2800\t56%\t0.7442\n",
      "74m 1s  (- 49m 21s)\t3000\t60%\t0.7385\n",
      "75m 9s  (- 42m 16s)\t3200\t64%\t0.7160\n",
      "76m 17s (- 35m 54s)\t3400\t68%\t0.7271\n",
      "77m 26s (- 30m 7s)\t3600\t72%\t0.7163\n",
      "78m 34s (- 24m 48s)\t3800\t76%\t0.7017\n",
      "79m 43s (- 19m 55s)\t4000\t80%\t0.6973\n",
      "80m 51s (- 15m 24s)\t4200\t84%\t0.7047\n",
      "81m 59s (- 11m 10s)\t4400\t88%\t0.6909\n",
      "83m 8s  (- 7m 13s)\t4600\t92%\t0.6906\n",
      "84m 16s (- 3m 30s)\t4800\t96%\t0.6895\n",
      "LEARNING RATE: 0.001000\n",
      "86m 33s (- 2077m 13s)\t200\t4%\t0.6829\n",
      "87m 42s (- 1008m 33s)\t400\t8%\t0.6846\n",
      "88m 50s (- 651m 33s)\t600\t12%\t0.6899\n",
      "89m 58s (- 472m 23s)\t800\t16%\t0.6705\n",
      "91m 6s  (- 364m 27s)\t1000\t20%\t0.6692\n",
      "92m 15s (- 292m 8s)\t1200\t24%\t0.6714\n",
      "93m 24s (- 240m 11s)\t1400\t28%\t0.6581\n",
      "94m 32s (- 200m 54s)\t1600\t32%\t0.6556\n",
      "95m 41s (- 170m 7s)\t1800\t36%\t0.6517\n",
      "96m 50s (- 145m 15s)\t2000\t40%\t0.6427\n",
      "97m 59s (- 124m 42s)\t2200\t44%\t0.6367\n",
      "99m 7s  (- 107m 23s)\t2400\t48%\t0.6296\n",
      "100m 15s (- 92m 32s)\t2600\t52%\t0.6344\n",
      "101m 23s (- 79m 40s)\t2800\t56%\t0.6322\n",
      "102m 32s (- 68m 21s)\t3000\t60%\t0.6220\n",
      "103m 40s (- 58m 19s)\t3200\t64%\t0.6214\n",
      "104m 49s (- 49m 19s)\t3400\t68%\t0.6220\n",
      "105m 57s (- 41m 12s)\t3600\t72%\t0.6131\n",
      "107m 6s (- 33m 49s)\t3800\t76%\t0.6133\n",
      "108m 15s (- 27m 3s)\t4000\t80%\t0.6054\n",
      "109m 24s (- 20m 50s)\t4200\t84%\t0.5954\n",
      "110m 32s (- 15m 4s)\t4400\t88%\t0.5934\n",
      "111m 41s (- 9m 42s)\t4600\t92%\t0.5867\n",
      "112m 49s (- 4m 42s)\t4800\t96%\t0.5860\n",
      "LEARNING RATE: 0.000300\n",
      "115m 7s (- 2763m 2s)\t200\t4%\t0.5769\n",
      "116m 16s (- 1337m 4s)\t400\t8%\t0.5608\n",
      "117m 25s (- 861m 3s)\t600\t12%\t0.5447\n",
      "118m 32s (- 622m 22s)\t800\t16%\t0.5299\n",
      "119m 40s (- 478m 41s)\t1000\t20%\t0.5221\n",
      "120m 48s (- 382m 33s)\t1200\t24%\t0.5199\n",
      "121m 57s (- 313m 35s)\t1400\t28%\t0.5139\n",
      "123m 5s (- 261m 35s)\t1600\t32%\t0.4916\n",
      "124m 14s (- 220m 53s)\t1800\t36%\t0.5038\n",
      "125m 23s (- 188m 5s)\t2000\t40%\t0.4962\n",
      "126m 32s (- 161m 2s)\t2200\t44%\t0.5119\n",
      "127m 40s (- 138m 18s)\t2400\t48%\t0.4857\n",
      "128m 48s (- 118m 53s)\t2600\t52%\t0.4853\n",
      "130m 0s (- 102m 8s)\t2800\t56%\t0.4882\n",
      "131m 8s (- 87m 25s)\t3000\t60%\t0.4800\n",
      "132m 16s (- 74m 24s)\t3200\t64%\t0.4796\n",
      "133m 25s (- 62m 47s)\t3400\t68%\t0.4847\n",
      "134m 34s (- 52m 20s)\t3600\t72%\t0.4776\n",
      "135m 42s (- 42m 51s)\t3800\t76%\t0.4689\n",
      "136m 51s (- 34m 12s)\t4000\t80%\t0.4694\n",
      "137m 59s (- 26m 16s)\t4200\t84%\t0.4673\n",
      "139m 7s (- 18m 58s)\t4400\t88%\t0.4643\n",
      "140m 15s (- 12m 11s)\t4600\t92%\t0.4703\n",
      "141m 23s (- 5m 53s)\t4800\t96%\t0.4661\n",
      "LEARNING RATE: 0.000300\n",
      "143m 41s (- 3448m 24s)\t200\t4%\t0.4638\n",
      "144m 49s (- 1665m 31s)\t400\t8%\t0.4619\n",
      "145m 59s (- 1070m 33s)\t600\t12%\t0.4682\n",
      "147m 8s (- 772m 28s)\t800\t16%\t0.4518\n",
      "148m 16s (- 593m 5s)\t1000\t20%\t0.4614\n",
      "149m 25s (- 473m 10s)\t1200\t24%\t0.4510\n",
      "150m 34s (- 387m 11s)\t1400\t28%\t0.4549\n",
      "151m 43s (- 322m 25s)\t1600\t32%\t0.4499\n",
      "152m 51s (- 271m 45s)\t1800\t36%\t0.4484\n",
      "154m 0s (- 231m 0s)\t2000\t40%\t0.4410\n",
      "155m 8s (- 197m 27s)\t2200\t44%\t0.4443\n",
      "156m 17s (- 169m 18s)\t2400\t48%\t0.4355\n",
      "157m 25s (- 145m 19s)\t2600\t52%\t0.4461\n",
      "158m 34s (- 124m 35s)\t2800\t56%\t0.4297\n",
      "159m 42s (- 106m 28s)\t3000\t60%\t0.4285\n",
      "160m 51s (- 90m 28s)\t3200\t64%\t0.4414\n",
      "162m 0s (- 76m 14s)\t3400\t68%\t0.4361\n",
      "163m 8s (- 63m 26s)\t3600\t72%\t0.4302\n",
      "164m 17s (- 51m 53s)\t3800\t76%\t0.4330\n",
      "165m 27s (- 41m 21s)\t4000\t80%\t0.4344\n",
      "166m 36s (- 31m 44s)\t4200\t84%\t0.4208\n",
      "167m 43s (- 22m 52s)\t4400\t88%\t0.4216\n",
      "168m 52s (- 14m 41s)\t4600\t92%\t0.4257\n",
      "170m 0s (- 7m 5s)\t4800\t96%\t0.4165\n",
      "LEARNING RATE: 0.000100\n",
      "172m 16s (- 4134m 45s)\t200\t4%\t0.4178\n",
      "173m 25s (- 1994m 17s)\t400\t8%\t0.4166\n",
      "174m 33s (- 1280m 5s)\t600\t12%\t0.4132\n",
      "175m 41s (- 922m 25s)\t800\t16%\t0.4034\n",
      "176m 51s (- 707m 24s)\t1000\t20%\t0.4041\n",
      "177m 59s (- 563m 37s)\t1200\t24%\t0.3968\n",
      "179m 8s (- 460m 37s)\t1400\t28%\t0.4049\n",
      "180m 16s (- 383m 5s)\t1600\t32%\t0.4012\n",
      "181m 25s (- 322m 32s)\t1800\t36%\t0.3985\n",
      "182m 33s (- 273m 49s)\t2000\t40%\t0.3938\n",
      "183m 41s (- 233m 47s)\t2200\t44%\t0.3982\n",
      "184m 50s (- 200m 14s)\t2400\t48%\t0.3982\n",
      "185m 59s (- 171m 41s)\t2600\t52%\t0.3971\n",
      "187m 7s (- 147m 1s)\t2800\t56%\t0.3992\n",
      "188m 16s (- 125m 31s)\t3000\t60%\t0.3984\n",
      "189m 25s (- 106m 32s)\t3200\t64%\t0.3896\n",
      "190m 32s (- 89m 40s)\t3400\t68%\t0.3926\n",
      "191m 40s (- 74m 32s)\t3600\t72%\t0.3951\n",
      "192m 48s (- 60m 53s)\t3800\t76%\t0.3943\n",
      "193m 57s (- 48m 29s)\t4000\t80%\t0.3931\n",
      "195m 5s (- 37m 9s)\t4200\t84%\t0.3854\n",
      "196m 14s (- 26m 45s)\t4400\t88%\t0.3955\n",
      "197m 23s (- 17m 9s)\t4600\t92%\t0.3915\n",
      "198m 31s (- 8m 16s)\t4800\t96%\t0.3895\n",
      "LEARNING RATE: 0.000030\n",
      "200m 48s (- 4819m 20s)\t200\t4%\t0.3909\n",
      "201m 55s (- 2322m 13s)\t400\t8%\t0.3841\n",
      "203m 4s (- 1489m 11s)\t600\t12%\t0.3819\n",
      "204m 12s (- 1072m 6s)\t800\t16%\t0.3857\n",
      "205m 20s (- 821m 23s)\t1000\t20%\t0.3876\n",
      "206m 29s (- 653m 53s)\t1200\t24%\t0.3793\n",
      "207m 37s (- 533m 53s)\t1400\t28%\t0.3923\n",
      "208m 45s (- 443m 37s)\t1600\t32%\t0.3826\n",
      "209m 54s (- 373m 9s)\t1800\t36%\t0.3830\n",
      "211m 2s (- 316m 34s)\t2000\t40%\t0.3852\n",
      "212m 11s (- 270m 3s)\t2200\t44%\t0.3846\n",
      "213m 19s (- 231m 6s)\t2400\t48%\t0.3842\n",
      "214m 28s (- 197m 58s)\t2600\t52%\t0.3798\n",
      "215m 36s (- 169m 24s)\t2800\t56%\t0.3668\n",
      "216m 45s (- 144m 30s)\t3000\t60%\t0.3871\n",
      "217m 54s (- 122m 34s)\t3200\t64%\t0.3804\n",
      "219m 2s (- 103m 4s)\t3400\t68%\t0.3747\n",
      "220m 10s (- 85m 37s)\t3600\t72%\t0.3755\n",
      "221m 18s (- 69m 53s)\t3800\t76%\t0.3831\n",
      "222m 27s (- 55m 36s)\t4000\t80%\t0.3762\n",
      "223m 36s (- 42m 35s)\t4200\t84%\t0.3864\n",
      "224m 43s (- 30m 38s)\t4400\t88%\t0.3735\n",
      "225m 52s (- 19m 38s)\t4600\t92%\t0.3737\n",
      "227m 1s (- 9m 27s)\t4800\t96%\t0.3800\n"
     ]
    }
   ],
   "source": [
    "n_layers = 1\n",
    "hidden_size = 128\n",
    "p25_epochs_list = []\n",
    "p25_times_list = []\n",
    "p25_avg_loss_list = []\n",
    "\n",
    "encoder = EncoderRNN(art_emb_t, hidden_size, n_layers).cuda()\n",
    "decoder = AttnDecoderRNN(hdln_emb_t, hidden_size, n_layers).cuda()\n",
    "multi_train(encoder, decoder, p25_times_list, p25_avg_loss_list, p25_epochs_list, teacher_forcing_type=.25)"
   ]
  },
  {
   "cell_type": "code",
   "execution_count": 56,
   "metadata": {},
   "outputs": [
    {
     "name": "stderr",
     "output_type": "stream",
     "text": [
      "/home/psxca1/anaconda3/lib/python3.6/site-packages/torch/serialization.py:147: UserWarning: Couldn't retrieve source code for container of type EncoderRNN. It won't be checked for correctness upon loading.\n",
      "  \"type \" + obj.__name__ + \". It won't be checked \"\n",
      "/home/psxca1/anaconda3/lib/python3.6/site-packages/torch/serialization.py:147: UserWarning: Couldn't retrieve source code for container of type AttnDecoderRNN. It won't be checked for correctness upon loading.\n",
      "  \"type \" + obj.__name__ + \". It won't be checked \"\n"
     ]
    }
   ],
   "source": [
    "torch.save(encoder, enc_dec_path+'p25_tf_encoder.pth')\n",
    "torch.save(decoder, enc_dec_path+'/p25_tf_decoder.pth')"
   ]
  },
  {
   "cell_type": "code",
   "execution_count": 57,
   "metadata": {
    "collapsed": true
   },
   "outputs": [],
   "source": [
    "with open(list_path+'p25_epochs_list.pkl', 'wb') as f:\n",
    "    pickle.dump(p25_epochs_list, f)\n",
    "with open(list_path+'p25_times_list.pkl', 'wb') as f:\n",
    "    pickle.dump(p25_times_list, f)\n",
    "with open(list_path+'p25_avg_loss_list.pkl', 'wb') as f:\n",
    "    pickle.dump(p25_avg_loss_list, f)"
   ]
  },
  {
   "cell_type": "code",
   "execution_count": 58,
   "metadata": {},
   "outputs": [
    {
     "data": {
      "image/png": "[encoded data removed]",
      "text/plain": [
       "<matplotlib.figure.Figure at 0x7f67f3b60978>"
      ]
     },
     "metadata": {},
     "output_type": "display_data"
    }
   ],
   "source": [
    "plt.plot(p25_times_list, p25_avg_loss_list)\n",
    "plt.xlabel('Training Time (Minutes)')\n",
    "plt.ylabel('Average Loss')\n",
    "plt.title('25% Teacher Forcing Loss over Time')\n",
    "plt.savefig(plot_path+'p25_tf.png')\n",
    "plt.show()"
   ]
  },
  {
   "cell_type": "code",
   "execution_count": 71,
   "metadata": {
    "collapsed": true
   },
   "outputs": [],
   "source": [
    "test(eval_path+'p25_tf')"
   ]
  },
  {
   "cell_type": "markdown",
   "metadata": {
    "collapsed": true
   },
   "source": [
    "## 50% TF"
   ]
  },
  {
   "cell_type": "code",
   "execution_count": 73,
   "metadata": {
    "scrolled": true
   },
   "outputs": [
    {
     "name": "stdout",
     "output_type": "stream",
     "text": [
      "LEARNING RATE: 0.003000\n",
      "1m 2s   (- 24m 55s)\t200\t4%\t2.7314\n",
      "2m 4s   (- 23m 53s)\t400\t8%\t2.3372\n",
      "3m 7s   (- 22m 58s)\t600\t12%\t2.1844\n",
      "4m 11s  (- 21m 59s)\t800\t16%\t2.0559\n",
      "5m 14s  (- 20m 59s)\t1000\t20%\t1.9403\n",
      "6m 19s  (- 20m 2s)\t1200\t24%\t1.8512\n",
      "7m 24s  (- 19m 2s)\t1400\t28%\t1.7917\n",
      "8m 28s  (- 18m 1s)\t1600\t32%\t1.7232\n",
      "9m 33s  (- 16m 58s)\t1800\t36%\t1.6849\n",
      "10m 37s (- 15m 56s)\t2000\t40%\t1.6010\n",
      "11m 41s (- 14m 52s)\t2200\t44%\t1.5700\n",
      "12m 45s (- 13m 49s)\t2400\t48%\t1.5061\n",
      "13m 49s (- 12m 45s)\t2600\t52%\t1.4847\n",
      "14m 53s (- 11m 41s)\t2800\t56%\t1.4569\n",
      "15m 57s (- 10m 38s)\t3000\t60%\t1.4468\n",
      "17m 2s  (- 9m 34s)\t3200\t64%\t1.4083\n",
      "18m 5s  (- 8m 30s)\t3400\t68%\t1.3731\n",
      "19m 9s  (- 7m 27s)\t3600\t72%\t1.3202\n",
      "20m 13s (- 6m 23s)\t3800\t76%\t1.3348\n",
      "21m 16s (- 5m 19s)\t4000\t80%\t1.2739\n",
      "22m 20s (- 4m 15s)\t4200\t84%\t1.2503\n",
      "23m 23s (- 3m 11s)\t4400\t88%\t1.2457\n",
      "24m 26s (- 2m 7s)\t4600\t92%\t1.2263\n",
      "25m 28s (- 1m 3s)\t4800\t96%\t1.2211\n",
      "LEARNING RATE: 0.003000\n",
      "27m 34s (- 661m 44s)\t200\t4%\t1.2285\n",
      "28m 36s (- 329m 4s)\t400\t8%\t1.2088\n",
      "29m 39s (- 217m 31s)\t600\t12%\t1.1694\n",
      "30m 43s (- 161m 15s)\t800\t16%\t1.1245\n",
      "31m 44s (- 126m 58s)\t1000\t20%\t1.1275\n",
      "32m 47s (- 103m 51s)\t1200\t24%\t1.1129\n",
      "33m 50s (- 87m 0s)\t1400\t28%\t1.1052\n",
      "34m 52s (- 74m 5s)\t1600\t32%\t1.0828\n",
      "35m 53s (- 63m 48s)\t1800\t36%\t1.0527\n",
      "36m 55s (- 55m 23s)\t2000\t40%\t1.0467\n",
      "37m 58s (- 48m 20s)\t2200\t44%\t1.0416\n",
      "39m 1s  (- 42m 16s)\t2400\t48%\t1.0431\n",
      "40m 3s  (- 36m 58s)\t2600\t52%\t1.0084\n",
      "41m 6s  (- 32m 18s)\t2800\t56%\t1.0269\n",
      "42m 9s  (- 28m 6s)\t3000\t60%\t0.9977\n",
      "43m 11s (- 24m 17s)\t3200\t64%\t0.9970\n",
      "44m 15s (- 20m 49s)\t3400\t68%\t0.9896\n",
      "45m 17s (- 17m 36s)\t3600\t72%\t0.9912\n",
      "46m 20s (- 14m 37s)\t3800\t76%\t0.9635\n",
      "47m 22s (- 11m 50s)\t4000\t80%\t0.9479\n",
      "48m 24s (- 9m 13s)\t4200\t84%\t0.9511\n",
      "49m 27s (- 6m 44s)\t4400\t88%\t0.9414\n",
      "50m 29s (- 4m 23s)\t4600\t92%\t0.9121\n",
      "51m 31s (- 2m 8s)\t4800\t96%\t0.9147\n",
      "LEARNING RATE: 0.001000\n",
      "53m 37s (- 1286m 49s)\t200\t4%\t0.8755\n",
      "54m 39s (- 628m 36s)\t400\t8%\t0.8373\n",
      "55m 41s (- 408m 26s)\t600\t12%\t0.7966\n",
      "56m 44s (- 297m 51s)\t800\t16%\t0.7693\n",
      "57m 48s (- 231m 14s)\t1000\t20%\t0.7316\n",
      "58m 54s (- 186m 31s)\t1200\t24%\t0.7252\n",
      "59m 58s (- 154m 14s)\t1400\t28%\t0.7079\n",
      "61m 4s  (- 129m 47s)\t1600\t32%\t0.7134\n",
      "62m 9s  (- 110m 30s)\t1800\t36%\t0.6872\n",
      "63m 15s (- 94m 52s)\t2000\t40%\t0.6738\n",
      "64m 18s (- 81m 51s)\t2200\t44%\t0.6557\n",
      "65m 20s (- 70m 47s)\t2400\t48%\t0.6312\n",
      "66m 22s (- 61m 16s)\t2600\t52%\t0.6299\n",
      "67m 25s (- 52m 58s)\t2800\t56%\t0.6601\n",
      "68m 29s (- 45m 39s)\t3000\t60%\t0.6418\n",
      "69m 32s (- 39m 7s)\t3200\t64%\t0.6269\n",
      "70m 37s (- 33m 14s)\t3400\t68%\t0.6172\n",
      "71m 42s (- 27m 53s)\t3600\t72%\t0.6233\n",
      "72m 47s (- 22m 59s)\t3800\t76%\t0.6029\n",
      "73m 52s (- 18m 28s)\t4000\t80%\t0.5878\n",
      "74m 58s (- 14m 16s)\t4200\t84%\t0.6082\n",
      "76m 3s  (- 10m 22s)\t4400\t88%\t0.6119\n",
      "77m 8s  (- 6m 42s)\t4600\t92%\t0.5960\n",
      "78m 13s (- 3m 15s)\t4800\t96%\t0.5694\n",
      "LEARNING RATE: 0.001000\n",
      "80m 25s (- 1930m 1s)\t200\t4%\t0.5889\n",
      "81m 30s (- 937m 18s)\t400\t8%\t0.5655\n",
      "82m 35s (- 605m 41s)\t600\t12%\t0.5893\n",
      "83m 41s (- 439m 22s)\t800\t16%\t0.5568\n",
      "84m 46s (- 339m 6s)\t1000\t20%\t0.5488\n",
      "85m 52s (- 271m 55s)\t1200\t24%\t0.5783\n",
      "86m 57s (- 223m 36s)\t1400\t28%\t0.5439\n",
      "88m 3s  (- 187m 7s)\t1600\t32%\t0.5458\n",
      "89m 8s  (- 158m 29s)\t1800\t36%\t0.5513\n",
      "90m 14s (- 135m 22s)\t2000\t40%\t0.5369\n",
      "91m 20s (- 116m 15s)\t2200\t44%\t0.5297\n",
      "92m 26s (- 100m 9s)\t2400\t48%\t0.5136\n",
      "93m 32s (- 86m 20s)\t2600\t52%\t0.5397\n",
      "94m 38s (- 74m 21s)\t2800\t56%\t0.5112\n",
      "95m 44s (- 63m 49s)\t3000\t60%\t0.5201\n",
      "96m 50s (- 54m 28s)\t3200\t64%\t0.5125\n",
      "97m 57s (- 46m 5s)\t3400\t68%\t0.5049\n",
      "99m 4s  (- 38m 31s)\t3600\t72%\t0.5043\n",
      "100m 12s (- 31m 38s)\t3800\t76%\t0.5003\n",
      "101m 19s (- 25m 19s)\t4000\t80%\t0.4931\n",
      "102m 26s (- 19m 30s)\t4200\t84%\t0.4864\n",
      "103m 33s (- 14m 7s)\t4400\t88%\t0.4911\n",
      "104m 41s (- 9m 6s)\t4600\t92%\t0.4759\n",
      "105m 49s (- 4m 24s)\t4800\t96%\t0.4952\n",
      "LEARNING RATE: 0.000300\n",
      "108m 6s (- 2594m 27s)\t200\t4%\t0.4788\n",
      "109m 13s (- 1256m 7s)\t400\t8%\t0.4497\n",
      "110m 21s (- 809m 16s)\t600\t12%\t0.4312\n",
      "111m 29s (- 585m 20s)\t800\t16%\t0.4402\n",
      "112m 37s (- 450m 30s)\t1000\t20%\t0.4328\n",
      "113m 45s (- 360m 13s)\t1200\t24%\t0.4095\n",
      "114m 53s (- 295m 26s)\t1400\t28%\t0.4134\n",
      "116m 1s (- 246m 32s)\t1600\t32%\t0.3942\n",
      "117m 8s (- 208m 15s)\t1800\t36%\t0.3993\n",
      "118m 16s (- 177m 24s)\t2000\t40%\t0.4006\n",
      "119m 24s (- 151m 57s)\t2200\t44%\t0.4096\n",
      "120m 32s (- 130m 34s)\t2400\t48%\t0.3779\n",
      "121m 38s (- 112m 17s)\t2600\t52%\t0.3882\n",
      "122m 46s (- 96m 27s)\t2800\t56%\t0.3759\n",
      "123m 53s (- 82m 35s)\t3000\t60%\t0.3812\n",
      "125m 0s (- 70m 19s)\t3200\t64%\t0.3729\n",
      "126m 8s (- 59m 21s)\t3400\t68%\t0.3771\n",
      "127m 16s (- 49m 29s)\t3600\t72%\t0.3702\n",
      "128m 24s (- 40m 33s)\t3800\t76%\t0.3779\n",
      "129m 33s (- 32m 23s)\t4000\t80%\t0.3620\n",
      "130m 41s (- 24m 53s)\t4200\t84%\t0.3698\n",
      "131m 49s (- 17m 58s)\t4400\t88%\t0.3656\n",
      "132m 57s (- 11m 33s)\t4600\t92%\t0.3626\n",
      "134m 4s (- 5m 35s)\t4800\t96%\t0.3542\n",
      "LEARNING RATE: 0.000300\n",
      "136m 19s (- 3271m 45s)\t200\t4%\t0.3689\n",
      "137m 26s (- 1580m 35s)\t400\t8%\t0.3487\n",
      "138m 34s (- 1016m 15s)\t600\t12%\t0.3611\n",
      "139m 42s (- 733m 29s)\t800\t16%\t0.3679\n",
      "140m 50s (- 563m 21s)\t1000\t20%\t0.3609\n",
      "141m 57s (- 449m 33s)\t1200\t24%\t0.3575\n",
      "143m 6s (- 367m 58s)\t1400\t28%\t0.3685\n",
      "144m 14s (- 306m 29s)\t1600\t32%\t0.3500\n",
      "145m 21s (- 258m 25s)\t1800\t36%\t0.3486\n",
      "146m 28s (- 219m 43s)\t2000\t40%\t0.3570\n",
      "147m 36s (- 187m 51s)\t2200\t44%\t0.3498\n",
      "148m 43s (- 161m 6s)\t2400\t48%\t0.3328\n",
      "149m 50s (- 138m 18s)\t2600\t52%\t0.3438\n",
      "150m 58s (- 118m 37s)\t2800\t56%\t0.3413\n",
      "152m 5s (- 101m 23s)\t3000\t60%\t0.3318\n",
      "153m 13s (- 86m 11s)\t3200\t64%\t0.3432\n",
      "154m 21s (- 72m 38s)\t3400\t68%\t0.3343\n",
      "155m 29s (- 60m 28s)\t3600\t72%\t0.3518\n",
      "156m 38s (- 49m 27s)\t3800\t76%\t0.3212\n",
      "157m 45s (- 39m 26s)\t4000\t80%\t0.3321\n",
      "158m 53s (- 30m 15s)\t4200\t84%\t0.3431\n",
      "160m 1s (- 21m 49s)\t4400\t88%\t0.3252\n",
      "161m 10s (- 14m 0s)\t4600\t92%\t0.3258\n",
      "162m 18s (- 6m 45s)\t4800\t96%\t0.3206\n",
      "LEARNING RATE: 0.000100\n",
      "164m 34s (- 3949m 43s)\t200\t4%\t0.3296\n",
      "165m 42s (- 1905m 36s)\t400\t8%\t0.3098\n",
      "166m 49s (- 1223m 25s)\t600\t12%\t0.3317\n",
      "167m 57s (- 881m 48s)\t800\t16%\t0.3160\n",
      "169m 5s (- 676m 21s)\t1000\t20%\t0.3189\n",
      "170m 12s (- 538m 59s)\t1200\t24%\t0.3077\n",
      "171m 20s (- 440m 34s)\t1400\t28%\t0.3074\n",
      "172m 27s (- 366m 27s)\t1600\t32%\t0.3035\n",
      "173m 34s (- 308m 34s)\t1800\t36%\t0.3047\n",
      "174m 41s (- 262m 2s)\t2000\t40%\t0.3013\n",
      "175m 49s (- 223m 46s)\t2200\t44%\t0.3055\n",
      "176m 57s (- 191m 42s)\t2400\t48%\t0.3015\n",
      "178m 4s (- 164m 23s)\t2600\t52%\t0.2956\n",
      "179m 12s (- 140m 48s)\t2800\t56%\t0.3067\n",
      "180m 20s (- 120m 13s)\t3000\t60%\t0.3018\n",
      "181m 28s (- 102m 4s)\t3200\t64%\t0.2982\n",
      "182m 36s (- 85m 56s)\t3400\t68%\t0.2917\n",
      "183m 44s (- 71m 27s)\t3600\t72%\t0.3012\n",
      "184m 52s (- 58m 22s)\t3800\t76%\t0.2975\n",
      "186m 0s (- 46m 30s)\t4000\t80%\t0.2986\n",
      "187m 8s (- 35m 38s)\t4200\t84%\t0.2965\n",
      "188m 16s (- 25m 40s)\t4400\t88%\t0.2952\n",
      "189m 24s (- 16m 28s)\t4600\t92%\t0.3091\n",
      "190m 32s (- 7m 56s)\t4800\t96%\t0.3089\n",
      "LEARNING RATE: 0.000030\n",
      "192m 47s (- 4626m 49s)\t200\t4%\t0.2971\n",
      "193m 54s (- 2230m 0s)\t400\t8%\t0.2866\n",
      "195m 1s (- 1430m 9s)\t600\t12%\t0.2767\n",
      "196m 8s (- 1029m 46s)\t800\t16%\t0.2893\n",
      "197m 16s (- 789m 7s)\t1000\t20%\t0.2932\n",
      "198m 23s (- 628m 15s)\t1200\t24%\t0.2819\n",
      "199m 31s (- 513m 5s)\t1400\t28%\t0.2887\n",
      "200m 40s (- 426m 26s)\t1600\t32%\t0.2948\n",
      "201m 48s (- 358m 45s)\t1800\t36%\t0.2931\n",
      "202m 55s (- 304m 23s)\t2000\t40%\t0.2873\n",
      "204m 2s (- 259m 41s)\t2200\t44%\t0.2876\n",
      "205m 9s (- 222m 15s)\t2400\t48%\t0.2836\n",
      "206m 17s (- 190m 25s)\t2600\t52%\t0.2891\n",
      "207m 25s (- 162m 58s)\t2800\t56%\t0.2892\n",
      "208m 34s (- 139m 2s)\t3000\t60%\t0.2944\n",
      "209m 41s (- 117m 57s)\t3200\t64%\t0.2972\n",
      "210m 48s (- 99m 12s)\t3400\t68%\t0.2899\n",
      "211m 56s (- 82m 25s)\t3600\t72%\t0.2868\n",
      "213m 4s (- 67m 17s)\t3800\t76%\t0.2965\n",
      "214m 12s (- 53m 33s)\t4000\t80%\t0.2838\n",
      "215m 20s (- 41m 0s)\t4200\t84%\t0.2783\n",
      "216m 27s (- 29m 31s)\t4400\t88%\t0.2749\n",
      "217m 35s (- 18m 55s)\t4600\t92%\t0.2860\n",
      "218m 43s (- 9m 6s)\t4800\t96%\t0.2810\n"
     ]
    }
   ],
   "source": [
    "n_layers = 1\n",
    "hidden_size = 128\n",
    "p50_epochs_list = []\n",
    "p50_times_list = []\n",
    "p50_avg_loss_list = []\n",
    "\n",
    "encoder = EncoderRNN(art_emb_t, hidden_size, n_layers).cuda()\n",
    "decoder = AttnDecoderRNN(hdln_emb_t, hidden_size, n_layers).cuda()\n",
    "multi_train(encoder, decoder, p50_times_list, p50_avg_loss_list, p50_epochs_list, .5)"
   ]
  },
  {
   "cell_type": "code",
   "execution_count": 74,
   "metadata": {},
   "outputs": [
    {
     "name": "stderr",
     "output_type": "stream",
     "text": [
      "/home/psxca1/anaconda3/lib/python3.6/site-packages/torch/serialization.py:147: UserWarning: Couldn't retrieve source code for container of type EncoderRNN. It won't be checked for correctness upon loading.\n",
      "  \"type \" + obj.__name__ + \". It won't be checked \"\n",
      "/home/psxca1/anaconda3/lib/python3.6/site-packages/torch/serialization.py:147: UserWarning: Couldn't retrieve source code for container of type AttnDecoderRNN. It won't be checked for correctness upon loading.\n",
      "  \"type \" + obj.__name__ + \". It won't be checked \"\n"
     ]
    }
   ],
   "source": [
    "torch.save(encoder, enc_dec_path+'p50_tf_encoder.pth')\n",
    "torch.save(decoder, enc_dec_path+'p50_tf_decoder.pth')"
   ]
  },
  {
   "cell_type": "code",
   "execution_count": 75,
   "metadata": {
    "collapsed": true
   },
   "outputs": [],
   "source": [
    "with open(list_path+'p50_epochs_list.pkl', 'wb') as f:\n",
    "    pickle.dump(p50_epochs_list, f)\n",
    "with open(list_path+'p50_times_list.pkl', 'wb') as f:\n",
    "    pickle.dump(p50_times_list, f)\n",
    "with open(list_path+'p50_avg_loss_list.pkl', 'wb') as f:\n",
    "    pickle.dump(p50_avg_loss_list, f)"
   ]
  },
  {
   "cell_type": "code",
   "execution_count": 76,
   "metadata": {},
   "outputs": [
    {
     "data": {
      "image/png": "[encoded data removed]",
      "text/plain": [
       "<matplotlib.figure.Figure at 0x7f67730eea20>"
      ]
     },
     "metadata": {},
     "output_type": "display_data"
    }
   ],
   "source": [
    "plt.plot(p50_times_list, p50_avg_loss_list)\n",
    "plt.xlabel('Training Time (Minutes)')\n",
    "plt.ylabel('Average Loss')\n",
    "plt.title('50% Teacher Forcing Loss over Time')\n",
    "plt.savefig(plot_path+'p50_tf.png')\n",
    "plt.show()"
   ]
  },
  {
   "cell_type": "code",
   "execution_count": 77,
   "metadata": {
    "collapsed": true
   },
   "outputs": [],
   "source": [
    "test(eval_path+'p50_tf')"
   ]
  },
  {
   "cell_type": "markdown",
   "metadata": {},
   "source": [
    "## 75% TF"
   ]
  },
  {
   "cell_type": "code",
   "execution_count": 78,
   "metadata": {
    "scrolled": true
   },
   "outputs": [
    {
     "name": "stdout",
     "output_type": "stream",
     "text": [
      "LEARNING RATE: 0.003000\n",
      "1m 6s   (- 26m 37s)\t200\t4%\t2.7064\n",
      "2m 13s  (- 25m 37s)\t400\t8%\t2.3011\n",
      "3m 20s  (- 24m 32s)\t600\t12%\t2.0718\n",
      "4m 27s  (- 23m 26s)\t800\t16%\t1.9383\n",
      "5m 33s  (- 22m 15s)\t1000\t20%\t1.8090\n",
      "6m 40s  (- 21m 8s)\t1200\t24%\t1.7506\n",
      "7m 47s  (- 20m 2s)\t1400\t28%\t1.6368\n",
      "8m 55s  (- 18m 57s)\t1600\t32%\t1.5930\n",
      "10m 3s  (- 17m 52s)\t1800\t36%\t1.5095\n",
      "11m 10s (- 16m 45s)\t2000\t40%\t1.5008\n",
      "12m 17s (- 15m 38s)\t2200\t44%\t1.4491\n",
      "13m 23s (- 14m 30s)\t2400\t48%\t1.3735\n",
      "14m 30s (- 13m 23s)\t2600\t52%\t1.3394\n",
      "15m 37s (- 12m 16s)\t2800\t56%\t1.3021\n",
      "16m 44s (- 11m 9s)\t3000\t60%\t1.2709\n",
      "17m 51s (- 10m 2s)\t3200\t64%\t1.2804\n",
      "18m 58s (- 8m 55s)\t3400\t68%\t1.2457\n",
      "20m 4s  (- 7m 48s)\t3600\t72%\t1.2085\n",
      "21m 12s (- 6m 41s)\t3800\t76%\t1.1809\n",
      "22m 19s (- 5m 34s)\t4000\t80%\t1.1501\n",
      "23m 26s (- 4m 27s)\t4200\t84%\t1.1220\n",
      "24m 33s (- 3m 20s)\t4400\t88%\t1.1080\n",
      "25m 40s (- 2m 13s)\t4600\t92%\t1.0757\n",
      "26m 48s (- 1m 7s)\t4800\t96%\t1.0952\n",
      "LEARNING RATE: 0.003000\n",
      "29m 1s  (- 696m 39s)\t200\t4%\t1.0751\n",
      "30m 9s  (- 346m 47s)\t400\t8%\t1.0693\n",
      "31m 16s (- 229m 18s)\t600\t12%\t1.0717\n",
      "32m 22s (- 170m 0s)\t800\t16%\t1.0119\n",
      "33m 29s (- 133m 58s)\t1000\t20%\t1.0288\n",
      "34m 36s (- 109m 36s)\t1200\t24%\t0.9555\n",
      "35m 43s (- 91m 52s)\t1400\t28%\t0.9486\n",
      "36m 50s (- 78m 17s)\t1600\t32%\t0.9429\n",
      "37m 57s (- 67m 29s)\t1800\t36%\t0.9318\n",
      "39m 4s  (- 58m 37s)\t2000\t40%\t0.9125\n",
      "40m 11s (- 51m 9s)\t2200\t44%\t0.8634\n",
      "41m 18s (- 44m 45s)\t2400\t48%\t0.8704\n",
      "42m 25s (- 39m 9s)\t2600\t52%\t0.8932\n",
      "43m 31s (- 34m 12s)\t2800\t56%\t0.8462\n",
      "44m 39s (- 29m 46s)\t3000\t60%\t0.8310\n",
      "45m 46s (- 25m 44s)\t3200\t64%\t0.8486\n",
      "46m 53s (- 22m 3s)\t3400\t68%\t0.8454\n",
      "48m 0s  (- 18m 40s)\t3600\t72%\t0.8032\n",
      "49m 7s  (- 15m 30s)\t3800\t76%\t0.8626\n",
      "50m 13s (- 12m 33s)\t4000\t80%\t0.8225\n",
      "51m 19s (- 9m 46s)\t4200\t84%\t0.8152\n",
      "52m 26s (- 7m 9s)\t4400\t88%\t0.7744\n",
      "53m 33s (- 4m 39s)\t4600\t92%\t0.7721\n",
      "54m 40s (- 2m 16s)\t4800\t96%\t0.7671\n",
      "LEARNING RATE: 0.001000\n",
      "56m 53s (- 1365m 25s)\t200\t4%\t0.7350\n",
      "58m 0s  (- 667m 2s)\t400\t8%\t0.6949\n",
      "59m 6s  (- 433m 30s)\t600\t12%\t0.6607\n",
      "60m 14s (- 316m 15s)\t800\t16%\t0.6533\n",
      "61m 21s (- 245m 25s)\t1000\t20%\t0.6031\n",
      "62m 28s (- 197m 51s)\t1200\t24%\t0.5930\n",
      "63m 35s (- 163m 32s)\t1400\t28%\t0.5504\n",
      "64m 42s (- 137m 29s)\t1600\t32%\t0.5446\n",
      "65m 48s (- 116m 59s)\t1800\t36%\t0.5747\n",
      "66m 54s (- 100m 21s)\t2000\t40%\t0.5290\n",
      "68m 0s  (- 86m 32s)\t2200\t44%\t0.5167\n",
      "69m 7s  (- 74m 52s)\t2400\t48%\t0.4991\n",
      "70m 13s (- 64m 49s)\t2600\t52%\t0.4959\n",
      "71m 18s (- 56m 1s)\t2800\t56%\t0.4894\n",
      "72m 23s (- 48m 15s)\t3000\t60%\t0.4846\n",
      "73m 30s (- 41m 20s)\t3200\t64%\t0.4837\n",
      "74m 36s (- 35m 6s)\t3400\t68%\t0.4771\n",
      "75m 43s (- 29m 26s)\t3600\t72%\t0.4822\n",
      "76m 50s (- 24m 15s)\t3800\t76%\t0.4712\n",
      "77m 58s (- 19m 29s)\t4000\t80%\t0.4640\n",
      "79m 5s  (- 15m 3s)\t4200\t84%\t0.4449\n",
      "80m 12s (- 10m 56s)\t4400\t88%\t0.4498\n",
      "81m 18s (- 7m 4s)\t4600\t92%\t0.4333\n",
      "82m 25s (- 3m 26s)\t4800\t96%\t0.4444\n",
      "LEARNING RATE: 0.001000\n",
      "84m 40s (- 2032m 4s)\t200\t4%\t0.4473\n",
      "85m 47s (- 986m 30s)\t400\t8%\t0.4431\n",
      "86m 53s (- 637m 15s)\t600\t12%\t0.4468\n",
      "88m 1s  (- 462m 5s)\t800\t16%\t0.4325\n",
      "89m 7s  (- 356m 30s)\t1000\t20%\t0.4387\n",
      "90m 13s (- 285m 43s)\t1200\t24%\t0.4311\n",
      "91m 20s (- 234m 53s)\t1400\t28%\t0.4294\n",
      "92m 28s (- 196m 30s)\t1600\t32%\t0.3978\n",
      "93m 35s (- 166m 22s)\t1800\t36%\t0.4060\n",
      "94m 42s (- 142m 3s)\t2000\t40%\t0.3747\n",
      "95m 48s (- 121m 56s)\t2200\t44%\t0.4045\n",
      "96m 55s (- 105m 0s)\t2400\t48%\t0.3910\n",
      "98m 2s  (- 90m 29s)\t2600\t52%\t0.3802\n",
      "99m 9s  (- 77m 54s)\t2800\t56%\t0.3912\n",
      "100m 16s (- 66m 51s)\t3000\t60%\t0.3938\n",
      "101m 24s (- 57m 2s)\t3200\t64%\t0.4055\n",
      "102m 31s (- 48m 14s)\t3400\t68%\t0.3765\n",
      "103m 37s (- 40m 18s)\t3600\t72%\t0.3761\n",
      "104m 44s (- 33m 4s)\t3800\t76%\t0.4016\n",
      "105m 52s (- 26m 28s)\t4000\t80%\t0.3787\n",
      "106m 59s (- 20m 22s)\t4200\t84%\t0.3771\n",
      "108m 5s (- 14m 44s)\t4400\t88%\t0.3762\n",
      "109m 12s (- 9m 29s)\t4600\t92%\t0.3580\n",
      "110m 19s (- 4m 35s)\t4800\t96%\t0.3897\n",
      "LEARNING RATE: 0.000300\n",
      "112m 33s (- 2701m 25s)\t200\t4%\t0.3267\n",
      "113m 40s (- 1307m 19s)\t400\t8%\t0.3366\n",
      "114m 47s (- 841m 51s)\t600\t12%\t0.3486\n",
      "115m 55s (- 608m 34s)\t800\t16%\t0.3151\n",
      "117m 2s (- 468m 11s)\t1000\t20%\t0.3052\n",
      "118m 10s (- 374m 12s)\t1200\t24%\t0.3032\n",
      "119m 16s (- 306m 42s)\t1400\t28%\t0.2742\n",
      "120m 24s (- 255m 51s)\t1600\t32%\t0.3012\n",
      "121m 31s (- 216m 2s)\t1800\t36%\t0.2834\n",
      "122m 38s (- 183m 57s)\t2000\t40%\t0.2910\n",
      "123m 45s (- 157m 30s)\t2200\t44%\t0.2658\n",
      "124m 52s (- 135m 16s)\t2400\t48%\t0.2821\n",
      "125m 59s (- 116m 17s)\t2600\t52%\t0.2834\n",
      "127m 6s (- 99m 51s)\t2800\t56%\t0.2723\n",
      "128m 13s (- 85m 29s)\t3000\t60%\t0.3011\n",
      "129m 21s (- 72m 45s)\t3200\t64%\t0.2756\n",
      "130m 28s (- 61m 23s)\t3400\t68%\t0.2714\n",
      "131m 34s (- 51m 10s)\t3600\t72%\t0.2567\n",
      "132m 42s (- 41m 54s)\t3800\t76%\t0.2854\n",
      "133m 48s (- 33m 27s)\t4000\t80%\t0.2688\n",
      "134m 55s (- 25m 42s)\t4200\t84%\t0.2741\n",
      "136m 3s (- 18m 33s)\t4400\t88%\t0.2559\n",
      "137m 11s (- 11m 55s)\t4600\t92%\t0.2590\n",
      "138m 18s (- 5m 45s)\t4800\t96%\t0.2535\n",
      "LEARNING RATE: 0.000300\n",
      "140m 32s (- 3373m 2s)\t200\t4%\t0.2677\n",
      "141m 39s (- 1629m 4s)\t400\t8%\t0.2741\n",
      "142m 46s (- 1047m 1s)\t600\t12%\t0.2568\n",
      "143m 53s (- 755m 28s)\t800\t16%\t0.2481\n",
      "145m 1s (- 580m 5s)\t1000\t20%\t0.2553\n",
      "146m 8s (- 462m 47s)\t1200\t24%\t0.2488\n",
      "147m 16s (- 378m 42s)\t1400\t28%\t0.2483\n",
      "148m 23s (- 315m 20s)\t1600\t32%\t0.2452\n",
      "149m 30s (- 265m 47s)\t1800\t36%\t0.2558\n",
      "150m 37s (- 225m 55s)\t2000\t40%\t0.2391\n",
      "151m 44s (- 193m 7s)\t2200\t44%\t0.2502\n",
      "152m 52s (- 165m 36s)\t2400\t48%\t0.2299\n",
      "153m 58s (- 142m 8s)\t2600\t52%\t0.2400\n",
      "155m 5s (- 121m 51s)\t2800\t56%\t0.2250\n",
      "156m 12s (- 104m 8s)\t3000\t60%\t0.2424\n",
      "157m 19s (- 88m 29s)\t3200\t64%\t0.2523\n",
      "158m 26s (- 74m 33s)\t3400\t68%\t0.2443\n",
      "159m 34s (- 62m 3s)\t3600\t72%\t0.2462\n",
      "160m 41s (- 50m 44s)\t3800\t76%\t0.2302\n",
      "161m 48s (- 40m 27s)\t4000\t80%\t0.2382\n",
      "162m 55s (- 31m 2s)\t4200\t84%\t0.2299\n",
      "164m 2s (- 22m 22s)\t4400\t88%\t0.2191\n",
      "165m 8s (- 14m 21s)\t4600\t92%\t0.2127\n",
      "166m 15s (- 6m 55s)\t4800\t96%\t0.2237\n",
      "LEARNING RATE: 0.000100\n",
      "168m 31s (- 4044m 25s)\t200\t4%\t0.2096\n",
      "169m 37s (- 1950m 40s)\t400\t8%\t0.2118\n",
      "170m 45s (- 1252m 11s)\t600\t12%\t0.2134\n",
      "171m 51s (- 902m 15s)\t800\t16%\t0.2146\n",
      "172m 58s (- 691m 53s)\t1000\t20%\t0.2292\n",
      "174m 6s (- 551m 19s)\t1200\t24%\t0.2113\n",
      "175m 12s (- 450m 32s)\t1400\t28%\t0.2153\n",
      "176m 18s (- 374m 39s)\t1600\t32%\t0.2013\n",
      "177m 26s (- 315m 27s)\t1800\t36%\t0.2261\n",
      "178m 33s (- 267m 50s)\t2000\t40%\t0.2122\n",
      "179m 41s (- 228m 41s)\t2200\t44%\t0.1999\n",
      "180m 48s (- 195m 52s)\t2400\t48%\t0.2166\n",
      "181m 54s (- 167m 55s)\t2600\t52%\t0.1989\n",
      "183m 1s (- 143m 48s)\t2800\t56%\t0.2101\n",
      "184m 8s (- 122m 45s)\t3000\t60%\t0.1938\n",
      "185m 15s (- 104m 12s)\t3200\t64%\t0.1971\n",
      "186m 22s (- 87m 42s)\t3400\t68%\t0.1899\n",
      "187m 30s (- 72m 55s)\t3600\t72%\t0.1998\n",
      "188m 37s (- 59m 33s)\t3800\t76%\t0.1978\n",
      "189m 45s (- 47m 26s)\t4000\t80%\t0.1926\n",
      "190m 52s (- 36m 21s)\t4200\t84%\t0.1962\n",
      "191m 58s (- 26m 10s)\t4400\t88%\t0.2055\n",
      "193m 6s (- 16m 47s)\t4600\t92%\t0.1964\n",
      "194m 12s (- 8m 5s)\t4800\t96%\t0.1992\n",
      "LEARNING RATE: 0.000030\n",
      "196m 26s (- 4714m 36s)\t200\t4%\t0.1905\n",
      "197m 33s (- 2272m 0s)\t400\t8%\t0.1998\n",
      "198m 41s (- 1457m 7s)\t600\t12%\t0.1975\n",
      "199m 48s (- 1049m 0s)\t800\t16%\t0.2011\n",
      "200m 56s (- 803m 46s)\t1000\t20%\t0.2061\n",
      "202m 3s (- 639m 50s)\t1200\t24%\t0.1921\n",
      "203m 10s (- 522m 26s)\t1400\t28%\t0.1898\n",
      "204m 17s (- 434m 6s)\t1600\t32%\t0.1898\n",
      "205m 24s (- 365m 10s)\t1800\t36%\t0.1984\n",
      "206m 31s (- 309m 47s)\t2000\t40%\t0.2011\n",
      "207m 39s (- 264m 17s)\t2200\t44%\t0.1936\n",
      "208m 47s (- 226m 11s)\t2400\t48%\t0.1901\n",
      "209m 54s (- 193m 45s)\t2600\t52%\t0.2003\n",
      "211m 0s (- 165m 47s)\t2800\t56%\t0.1918\n",
      "212m 7s (- 141m 25s)\t3000\t60%\t0.1915\n",
      "213m 13s (- 119m 56s)\t3200\t64%\t0.1862\n",
      "214m 21s (- 100m 52s)\t3400\t68%\t0.1996\n",
      "215m 27s (- 83m 47s)\t3600\t72%\t0.1889\n",
      "216m 33s (- 68m 23s)\t3800\t76%\t0.2022\n",
      "217m 40s (- 54m 25s)\t4000\t80%\t0.1799\n",
      "218m 47s (- 41m 40s)\t4200\t84%\t0.2112\n",
      "219m 54s (- 29m 59s)\t4400\t88%\t0.1945\n",
      "221m 1s (- 19m 13s)\t4600\t92%\t0.1925\n",
      "222m 8s (- 9m 15s)\t4800\t96%\t0.1929\n"
     ]
    }
   ],
   "source": [
    "n_layers = 1\n",
    "hidden_size = 128\n",
    "p75_epochs_list = []\n",
    "p75_times_list = []\n",
    "p75_avg_loss_list = []\n",
    "\n",
    "encoder = EncoderRNN(art_emb_t, hidden_size, n_layers).cuda()\n",
    "decoder = AttnDecoderRNN(hdln_emb_t, hidden_size, n_layers).cuda()\n",
    "multi_train(encoder, decoder, p75_times_list, p75_avg_loss_list, p75_epochs_list, .75)"
   ]
  },
  {
   "cell_type": "code",
   "execution_count": 79,
   "metadata": {},
   "outputs": [
    {
     "name": "stderr",
     "output_type": "stream",
     "text": [
      "/home/psxca1/anaconda3/lib/python3.6/site-packages/torch/serialization.py:147: UserWarning: Couldn't retrieve source code for container of type EncoderRNN. It won't be checked for correctness upon loading.\n",
      "  \"type \" + obj.__name__ + \". It won't be checked \"\n",
      "/home/psxca1/anaconda3/lib/python3.6/site-packages/torch/serialization.py:147: UserWarning: Couldn't retrieve source code for container of type AttnDecoderRNN. It won't be checked for correctness upon loading.\n",
      "  \"type \" + obj.__name__ + \". It won't be checked \"\n"
     ]
    }
   ],
   "source": [
    "torch.save(encoder, enc_dec_path+'p75_tf_encoder.pth')\n",
    "torch.save(decoder, enc_dec_path+'p75_tf_decoder.pth')"
   ]
  },
  {
   "cell_type": "code",
   "execution_count": 80,
   "metadata": {
    "collapsed": true
   },
   "outputs": [],
   "source": [
    "with open(list_path+'p75_epochs_list.pkl', 'wb') as f:\n",
    "    pickle.dump(p75_epochs_list, f)\n",
    "with open(list_path+'p75_times_list.pkl', 'wb') as f:\n",
    "    pickle.dump(p75_times_list, f)\n",
    "with open(list_path+'p75_avg_loss_list.pkl', 'wb') as f:\n",
    "    pickle.dump(p75_avg_loss_list, f)"
   ]
  },
  {
   "cell_type": "code",
   "execution_count": 81,
   "metadata": {},
   "outputs": [
    {
     "data": {
      "image/png": "[encoded data removed]",
      "text/plain": [
       "<matplotlib.figure.Figure at 0x7f67730e10b8>"
      ]
     },
     "metadata": {},
     "output_type": "display_data"
    }
   ],
   "source": [
    "plt.plot(p75_times_list, p75_avg_loss_list)\n",
    "plt.xlabel('Training Time (Minutes)')\n",
    "plt.ylabel('Average Loss')\n",
    "plt.title('75% Teacher Forcing Loss over Time')\n",
    "plt.savefig(plot_path+'p75_tf.png')\n",
    "plt.show()"
   ]
  },
  {
   "cell_type": "code",
   "execution_count": 82,
   "metadata": {
    "collapsed": true
   },
   "outputs": [],
   "source": [
    "test(eval_path+'p75_tf')"
   ]
  }
 ],
 "metadata": {
  "anaconda-cloud": {},
  "kernelspec": {
   "display_name": "Python 3",
   "language": "python",
   "name": "python3"
  },
  "language_info": {
   "codemirror_mode": {
    "name": "ipython",
    "version": 3
   },
   "file_extension": ".py",
   "mimetype": "text/x-python",
   "name": "python",
   "nbconvert_exporter": "python",
   "pygments_lexer": "ipython3",
   "version": "3.6.1"
  }
 },
 "nbformat": 4,
 "nbformat_minor": 2
}
